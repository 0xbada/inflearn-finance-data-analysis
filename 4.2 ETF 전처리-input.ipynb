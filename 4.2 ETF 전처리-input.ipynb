{
 "cells": [
  {
   "cell_type": "markdown",
   "metadata": {
    "id": "t3V7lAmnBYko"
   },
   "source": [
    "[![Open In Colab](https://colab.research.google.com/assets/colab-badge.svg)](https://colab.research.google.com/github/corazzon/finance-data-analysis/blob/main/4.2%20ETF%20%EC%A0%84%EC%B2%98%EB%A6%AC-input.ipynb)\n",
    "\n",
    "* [ETF : 네이버 금융](https://finance.naver.com/sise/etf.nhn) 에서 수집한 데이터를 전처리 합니다.\n",
    "* keyword\n",
    "    * rename column\n",
    "    * .map(lambda x : x)\n",
    "    * text data\n",
    "        * str.contains()\n",
    "        * str.replace()\n",
    "        * str.split(\"구분자\", expand=True)\n",
    "        * str[:]\n",
    "\n",
    "## 데이터 로드와 요약"
   ]
  },
  {
   "cell_type": "code",
   "execution_count": 1,
   "metadata": {
    "id": "sUwAAMjsBYko"
   },
   "outputs": [],
   "source": [
    "# 데이터 분석을 위한 pandas, 수치계산을 위한 numpy라이브러리를 로드합니다.\n",
    "import pandas as pd\n",
    "import numpy as np"
   ]
  },
  {
   "cell_type": "code",
   "execution_count": 2,
   "metadata": {},
   "outputs": [
    {
     "data": {
      "text/plain": [
       "'eft_2021-01-08_raw.csv'"
      ]
     },
     "execution_count": 2,
     "metadata": {},
     "output_type": "execute_result"
    }
   ],
   "source": [
    "# 이전 실습에서 저장한 파일명을 file_name에 적어주세요.\n",
    "file_name = \"eft_2021-01-08_raw.csv\"\n",
    "file_name"
   ]
  },
  {
   "cell_type": "code",
   "execution_count": 3,
   "metadata": {
    "id": "cyivYjVFBYkp"
   },
   "outputs": [
    {
     "data": {
      "text/plain": [
       "(468, 12)"
      ]
     },
     "execution_count": 3,
     "metadata": {},
     "output_type": "execute_result"
    }
   ],
   "source": [
    "# 이전 수업에서 수집해서 저장해둔 csv 파일을 읽어옵니다.\n",
    "# itemcode 숫자 앞의 0 이 지워진다면 dtype={\"itemcode\": np.object} 로 타입을 지정해 주면 문자형태로 읽어옵니다.\n",
    "df = pd.read_csv(file_name, dtype={\"itemcode\":np.object})\n",
    "df.shape"
   ]
  },
  {
   "cell_type": "code",
   "execution_count": 4,
   "metadata": {
    "id": "VgCji4_wBYkp"
   },
   "outputs": [
    {
     "data": {
      "text/html": [
       "<div>\n",
       "<style scoped>\n",
       "    .dataframe tbody tr th:only-of-type {\n",
       "        vertical-align: middle;\n",
       "    }\n",
       "\n",
       "    .dataframe tbody tr th {\n",
       "        vertical-align: top;\n",
       "    }\n",
       "\n",
       "    .dataframe thead th {\n",
       "        text-align: right;\n",
       "    }\n",
       "</style>\n",
       "<table border=\"1\" class=\"dataframe\">\n",
       "  <thead>\n",
       "    <tr style=\"text-align: right;\">\n",
       "      <th></th>\n",
       "      <th>itemcode</th>\n",
       "      <th>etfTabCode</th>\n",
       "      <th>itemname</th>\n",
       "      <th>nowVal</th>\n",
       "      <th>risefall</th>\n",
       "      <th>changeVal</th>\n",
       "      <th>changeRate</th>\n",
       "      <th>nav</th>\n",
       "      <th>threeMonthEarnRate</th>\n",
       "      <th>quant</th>\n",
       "      <th>amonut</th>\n",
       "      <th>marketSum</th>\n",
       "    </tr>\n",
       "  </thead>\n",
       "  <tbody>\n",
       "    <tr>\n",
       "      <th>0</th>\n",
       "      <td>069500</td>\n",
       "      <td>1</td>\n",
       "      <td>KODEX 200</td>\n",
       "      <td>43535</td>\n",
       "      <td>2</td>\n",
       "      <td>1835</td>\n",
       "      <td>4.40</td>\n",
       "      <td>43514.0</td>\n",
       "      <td>31.3427</td>\n",
       "      <td>10062117</td>\n",
       "      <td>430815</td>\n",
       "      <td>65172</td>\n",
       "    </tr>\n",
       "    <tr>\n",
       "      <th>1</th>\n",
       "      <td>102110</td>\n",
       "      <td>1</td>\n",
       "      <td>TIGER 200</td>\n",
       "      <td>43495</td>\n",
       "      <td>2</td>\n",
       "      <td>1855</td>\n",
       "      <td>4.45</td>\n",
       "      <td>43491.0</td>\n",
       "      <td>31.2777</td>\n",
       "      <td>1250320</td>\n",
       "      <td>53479</td>\n",
       "      <td>32230</td>\n",
       "    </tr>\n",
       "    <tr>\n",
       "      <th>2</th>\n",
       "      <td>153130</td>\n",
       "      <td>6</td>\n",
       "      <td>KODEX 단기채권</td>\n",
       "      <td>102645</td>\n",
       "      <td>5</td>\n",
       "      <td>-5</td>\n",
       "      <td>0.00</td>\n",
       "      <td>102647.0</td>\n",
       "      <td>0.1463</td>\n",
       "      <td>22326</td>\n",
       "      <td>2291</td>\n",
       "      <td>19934</td>\n",
       "    </tr>\n",
       "    <tr>\n",
       "      <th>3</th>\n",
       "      <td>310970</td>\n",
       "      <td>1</td>\n",
       "      <td>TIGER MSCI Korea TR</td>\n",
       "      <td>17600</td>\n",
       "      <td>2</td>\n",
       "      <td>720</td>\n",
       "      <td>4.27</td>\n",
       "      <td>17687.0</td>\n",
       "      <td>32.2884</td>\n",
       "      <td>271086</td>\n",
       "      <td>4704</td>\n",
       "      <td>18850</td>\n",
       "    </tr>\n",
       "    <tr>\n",
       "      <th>4</th>\n",
       "      <td>278540</td>\n",
       "      <td>1</td>\n",
       "      <td>KODEX MSCI Korea TR</td>\n",
       "      <td>14010</td>\n",
       "      <td>2</td>\n",
       "      <td>565</td>\n",
       "      <td>4.20</td>\n",
       "      <td>14087.0</td>\n",
       "      <td>32.7245</td>\n",
       "      <td>603229</td>\n",
       "      <td>8319</td>\n",
       "      <td>18675</td>\n",
       "    </tr>\n",
       "  </tbody>\n",
       "</table>\n",
       "</div>"
      ],
      "text/plain": [
       "  itemcode  etfTabCode             itemname  nowVal  risefall  changeVal  \\\n",
       "0   069500           1            KODEX 200   43535         2       1835   \n",
       "1   102110           1            TIGER 200   43495         2       1855   \n",
       "2   153130           6           KODEX 단기채권  102645         5         -5   \n",
       "3   310970           1  TIGER MSCI Korea TR   17600         2        720   \n",
       "4   278540           1  KODEX MSCI Korea TR   14010         2        565   \n",
       "\n",
       "   changeRate       nav  threeMonthEarnRate     quant  amonut  marketSum  \n",
       "0        4.40   43514.0             31.3427  10062117  430815      65172  \n",
       "1        4.45   43491.0             31.2777   1250320   53479      32230  \n",
       "2        0.00  102647.0              0.1463     22326    2291      19934  \n",
       "3        4.27   17687.0             32.2884    271086    4704      18850  \n",
       "4        4.20   14087.0             32.7245    603229    8319      18675  "
      ]
     },
     "execution_count": 4,
     "metadata": {},
     "output_type": "execute_result"
    }
   ],
   "source": [
    "# 인덱스 번호 상단 5개의 데이터를 가져옵니다.\n",
    "# 데이터를 잘 읽어왔는지 확인합니다.\n",
    "df.head()"
   ]
  },
  {
   "cell_type": "code",
   "execution_count": 5,
   "metadata": {
    "id": "sFWU55-NBYkp"
   },
   "outputs": [
    {
     "data": {
      "text/html": [
       "<div>\n",
       "<style scoped>\n",
       "    .dataframe tbody tr th:only-of-type {\n",
       "        vertical-align: middle;\n",
       "    }\n",
       "\n",
       "    .dataframe tbody tr th {\n",
       "        vertical-align: top;\n",
       "    }\n",
       "\n",
       "    .dataframe thead th {\n",
       "        text-align: right;\n",
       "    }\n",
       "</style>\n",
       "<table border=\"1\" class=\"dataframe\">\n",
       "  <thead>\n",
       "    <tr style=\"text-align: right;\">\n",
       "      <th></th>\n",
       "      <th>itemcode</th>\n",
       "      <th>etfTabCode</th>\n",
       "      <th>itemname</th>\n",
       "      <th>nowVal</th>\n",
       "      <th>risefall</th>\n",
       "      <th>changeVal</th>\n",
       "      <th>changeRate</th>\n",
       "      <th>nav</th>\n",
       "      <th>threeMonthEarnRate</th>\n",
       "      <th>quant</th>\n",
       "      <th>amonut</th>\n",
       "      <th>marketSum</th>\n",
       "    </tr>\n",
       "  </thead>\n",
       "  <tbody>\n",
       "    <tr>\n",
       "      <th>463</th>\n",
       "      <td>309170</td>\n",
       "      <td>2</td>\n",
       "      <td>ARIRANG KRX300IT</td>\n",
       "      <td>20530</td>\n",
       "      <td>2</td>\n",
       "      <td>805</td>\n",
       "      <td>4.08</td>\n",
       "      <td>20550.0</td>\n",
       "      <td>39.4978</td>\n",
       "      <td>508</td>\n",
       "      <td>10</td>\n",
       "      <td>29</td>\n",
       "    </tr>\n",
       "    <tr>\n",
       "      <th>464</th>\n",
       "      <td>285020</td>\n",
       "      <td>2</td>\n",
       "      <td>KBSTAR 200철강소재</td>\n",
       "      <td>7815</td>\n",
       "      <td>2</td>\n",
       "      <td>30</td>\n",
       "      <td>0.39</td>\n",
       "      <td>7854.0</td>\n",
       "      <td>39.7666</td>\n",
       "      <td>13524</td>\n",
       "      <td>106</td>\n",
       "      <td>28</td>\n",
       "    </tr>\n",
       "    <tr>\n",
       "      <th>465</th>\n",
       "      <td>334700</td>\n",
       "      <td>5</td>\n",
       "      <td>KBSTAR 팔라듐선물인버스(H)</td>\n",
       "      <td>5110</td>\n",
       "      <td>2</td>\n",
       "      <td>40</td>\n",
       "      <td>0.79</td>\n",
       "      <td>NaN</td>\n",
       "      <td>-4.1588</td>\n",
       "      <td>793</td>\n",
       "      <td>4</td>\n",
       "      <td>26</td>\n",
       "    </tr>\n",
       "    <tr>\n",
       "      <th>466</th>\n",
       "      <td>284980</td>\n",
       "      <td>2</td>\n",
       "      <td>KBSTAR 200금융</td>\n",
       "      <td>8265</td>\n",
       "      <td>5</td>\n",
       "      <td>-10</td>\n",
       "      <td>-0.12</td>\n",
       "      <td>8310.0</td>\n",
       "      <td>23.2315</td>\n",
       "      <td>4196</td>\n",
       "      <td>34</td>\n",
       "      <td>25</td>\n",
       "    </tr>\n",
       "    <tr>\n",
       "      <th>467</th>\n",
       "      <td>267500</td>\n",
       "      <td>4</td>\n",
       "      <td>KBSTAR 미국장기국채선물인버스2X(합성 H)</td>\n",
       "      <td>6030</td>\n",
       "      <td>2</td>\n",
       "      <td>75</td>\n",
       "      <td>1.26</td>\n",
       "      <td>NaN</td>\n",
       "      <td>6.9120</td>\n",
       "      <td>7617</td>\n",
       "      <td>45</td>\n",
       "      <td>21</td>\n",
       "    </tr>\n",
       "  </tbody>\n",
       "</table>\n",
       "</div>"
      ],
      "text/plain": [
       "    itemcode  etfTabCode                    itemname  nowVal  risefall  \\\n",
       "463   309170           2            ARIRANG KRX300IT   20530         2   \n",
       "464   285020           2              KBSTAR 200철강소재    7815         2   \n",
       "465   334700           5          KBSTAR 팔라듐선물인버스(H)    5110         2   \n",
       "466   284980           2                KBSTAR 200금융    8265         5   \n",
       "467   267500           4  KBSTAR 미국장기국채선물인버스2X(합성 H)    6030         2   \n",
       "\n",
       "     changeVal  changeRate      nav  threeMonthEarnRate  quant  amonut  \\\n",
       "463        805        4.08  20550.0             39.4978    508      10   \n",
       "464         30        0.39   7854.0             39.7666  13524     106   \n",
       "465         40        0.79      NaN             -4.1588    793       4   \n",
       "466        -10       -0.12   8310.0             23.2315   4196      34   \n",
       "467         75        1.26      NaN              6.9120   7617      45   \n",
       "\n",
       "     marketSum  \n",
       "463         29  \n",
       "464         28  \n",
       "465         26  \n",
       "466         25  \n",
       "467         21  "
      ]
     },
     "execution_count": 5,
     "metadata": {},
     "output_type": "execute_result"
    }
   ],
   "source": [
    "# 인덱스 하단의 5개 데이터를 가져옵니다.\n",
    "# 데이터를 잘 읽어왔는지 확인합니다.\n",
    "df.tail()"
   ]
  },
  {
   "cell_type": "code",
   "execution_count": 6,
   "metadata": {
    "id": "LxSJgh3rBYkq",
    "scrolled": true
   },
   "outputs": [
    {
     "name": "stdout",
     "output_type": "stream",
     "text": [
      "<class 'pandas.core.frame.DataFrame'>\n",
      "RangeIndex: 468 entries, 0 to 467\n",
      "Data columns (total 12 columns):\n",
      " #   Column              Non-Null Count  Dtype  \n",
      "---  ------              --------------  -----  \n",
      " 0   itemcode            468 non-null    object \n",
      " 1   etfTabCode          468 non-null    int64  \n",
      " 2   itemname            468 non-null    object \n",
      " 3   nowVal              468 non-null    int64  \n",
      " 4   risefall            468 non-null    int64  \n",
      " 5   changeVal           468 non-null    int64  \n",
      " 6   changeRate          468 non-null    float64\n",
      " 7   nav                 341 non-null    float64\n",
      " 8   threeMonthEarnRate  447 non-null    float64\n",
      " 9   quant               468 non-null    int64  \n",
      " 10  amonut              468 non-null    int64  \n",
      " 11  marketSum           468 non-null    int64  \n",
      "dtypes: float64(3), int64(7), object(2)\n",
      "memory usage: 44.0+ KB\n"
     ]
    }
   ],
   "source": [
    "# info를 통해서 각 column들의 데이터타입과 결측치, 메모리 사용량 등을 볼 수 있습니다.\n",
    "df.info()"
   ]
  },
  {
   "cell_type": "markdown",
   "metadata": {},
   "source": [
    "* 웹사이트의 ETF 정보와 비교하며 어떤 컬럼이 어떤 값인지 확인합니다. \n",
    "* https://finance.naver.com/sise/etf.nhn "
   ]
  },
  {
   "cell_type": "code",
   "execution_count": 7,
   "metadata": {
    "id": "cdS2JB71BYkq"
   },
   "outputs": [
    {
     "data": {
      "text/html": [
       "<div>\n",
       "<style scoped>\n",
       "    .dataframe tbody tr th:only-of-type {\n",
       "        vertical-align: middle;\n",
       "    }\n",
       "\n",
       "    .dataframe tbody tr th {\n",
       "        vertical-align: top;\n",
       "    }\n",
       "\n",
       "    .dataframe thead th {\n",
       "        text-align: right;\n",
       "    }\n",
       "</style>\n",
       "<table border=\"1\" class=\"dataframe\">\n",
       "  <thead>\n",
       "    <tr style=\"text-align: right;\">\n",
       "      <th></th>\n",
       "      <th>itemcode</th>\n",
       "      <th>etfTabCode</th>\n",
       "      <th>itemname</th>\n",
       "      <th>nowVal</th>\n",
       "      <th>risefall</th>\n",
       "      <th>changeVal</th>\n",
       "      <th>changeRate</th>\n",
       "      <th>nav</th>\n",
       "      <th>threeMonthEarnRate</th>\n",
       "      <th>quant</th>\n",
       "      <th>amonut</th>\n",
       "      <th>marketSum</th>\n",
       "    </tr>\n",
       "  </thead>\n",
       "  <tbody>\n",
       "    <tr>\n",
       "      <th>7</th>\n",
       "      <td>252670</td>\n",
       "      <td>3</td>\n",
       "      <td>KODEX 200선물인버스2X</td>\n",
       "      <td>2055</td>\n",
       "      <td>5</td>\n",
       "      <td>-190</td>\n",
       "      <td>-8.46</td>\n",
       "      <td>2052.0</td>\n",
       "      <td>-43.8048</td>\n",
       "      <td>410373699</td>\n",
       "      <td>872450</td>\n",
       "      <td>16806</td>\n",
       "    </tr>\n",
       "    <tr>\n",
       "      <th>15</th>\n",
       "      <td>114800</td>\n",
       "      <td>3</td>\n",
       "      <td>KODEX 인버스</td>\n",
       "      <td>3860</td>\n",
       "      <td>5</td>\n",
       "      <td>-170</td>\n",
       "      <td>-4.22</td>\n",
       "      <td>3859.0</td>\n",
       "      <td>-24.6729</td>\n",
       "      <td>104693211</td>\n",
       "      <td>411155</td>\n",
       "      <td>8766</td>\n",
       "    </tr>\n",
       "    <tr>\n",
       "      <th>5</th>\n",
       "      <td>122630</td>\n",
       "      <td>3</td>\n",
       "      <td>KODEX 레버리지</td>\n",
       "      <td>28545</td>\n",
       "      <td>2</td>\n",
       "      <td>2280</td>\n",
       "      <td>8.68</td>\n",
       "      <td>28674.0</td>\n",
       "      <td>70.6627</td>\n",
       "      <td>74752179</td>\n",
       "      <td>2063208</td>\n",
       "      <td>16899</td>\n",
       "    </tr>\n",
       "    <tr>\n",
       "      <th>24</th>\n",
       "      <td>251340</td>\n",
       "      <td>3</td>\n",
       "      <td>KODEX 코스닥150선물인버스</td>\n",
       "      <td>4370</td>\n",
       "      <td>5</td>\n",
       "      <td>-15</td>\n",
       "      <td>-0.34</td>\n",
       "      <td>4381.0</td>\n",
       "      <td>-15.5106</td>\n",
       "      <td>28336708</td>\n",
       "      <td>124105</td>\n",
       "      <td>4615</td>\n",
       "    </tr>\n",
       "    <tr>\n",
       "      <th>11</th>\n",
       "      <td>233740</td>\n",
       "      <td>1</td>\n",
       "      <td>KODEX 코스닥150 레버리지</td>\n",
       "      <td>17060</td>\n",
       "      <td>2</td>\n",
       "      <td>130</td>\n",
       "      <td>0.77</td>\n",
       "      <td>17226.0</td>\n",
       "      <td>30.0307</td>\n",
       "      <td>23003221</td>\n",
       "      <td>392002</td>\n",
       "      <td>12403</td>\n",
       "    </tr>\n",
       "    <tr>\n",
       "      <th>79</th>\n",
       "      <td>252710</td>\n",
       "      <td>3</td>\n",
       "      <td>TIGER 200선물인버스2X</td>\n",
       "      <td>2125</td>\n",
       "      <td>5</td>\n",
       "      <td>-200</td>\n",
       "      <td>-8.60</td>\n",
       "      <td>2125.0</td>\n",
       "      <td>-43.6364</td>\n",
       "      <td>16077137</td>\n",
       "      <td>35413</td>\n",
       "      <td>975</td>\n",
       "    </tr>\n",
       "    <tr>\n",
       "      <th>0</th>\n",
       "      <td>069500</td>\n",
       "      <td>1</td>\n",
       "      <td>KODEX 200</td>\n",
       "      <td>43535</td>\n",
       "      <td>2</td>\n",
       "      <td>1835</td>\n",
       "      <td>4.40</td>\n",
       "      <td>43514.0</td>\n",
       "      <td>31.3427</td>\n",
       "      <td>10062117</td>\n",
       "      <td>430815</td>\n",
       "      <td>65172</td>\n",
       "    </tr>\n",
       "    <tr>\n",
       "      <th>28</th>\n",
       "      <td>305720</td>\n",
       "      <td>2</td>\n",
       "      <td>KODEX 2차전지산업</td>\n",
       "      <td>18865</td>\n",
       "      <td>2</td>\n",
       "      <td>580</td>\n",
       "      <td>3.17</td>\n",
       "      <td>18890.0</td>\n",
       "      <td>50.8041</td>\n",
       "      <td>9611162</td>\n",
       "      <td>181172</td>\n",
       "      <td>4414</td>\n",
       "    </tr>\n",
       "    <tr>\n",
       "      <th>64</th>\n",
       "      <td>267770</td>\n",
       "      <td>3</td>\n",
       "      <td>TIGER 200선물레버리지</td>\n",
       "      <td>21435</td>\n",
       "      <td>2</td>\n",
       "      <td>1755</td>\n",
       "      <td>8.92</td>\n",
       "      <td>21350.0</td>\n",
       "      <td>70.1686</td>\n",
       "      <td>5123947</td>\n",
       "      <td>106376</td>\n",
       "      <td>1372</td>\n",
       "    </tr>\n",
       "    <tr>\n",
       "      <th>34</th>\n",
       "      <td>364980</td>\n",
       "      <td>2</td>\n",
       "      <td>TIGER KRX2차전지K-뉴딜</td>\n",
       "      <td>17195</td>\n",
       "      <td>2</td>\n",
       "      <td>675</td>\n",
       "      <td>4.09</td>\n",
       "      <td>17186.0</td>\n",
       "      <td>55.5555</td>\n",
       "      <td>4836204</td>\n",
       "      <td>83067</td>\n",
       "      <td>3791</td>\n",
       "    </tr>\n",
       "  </tbody>\n",
       "</table>\n",
       "</div>"
      ],
      "text/plain": [
       "   itemcode  etfTabCode           itemname  nowVal  risefall  changeVal  \\\n",
       "7    252670           3   KODEX 200선물인버스2X    2055         5       -190   \n",
       "15   114800           3          KODEX 인버스    3860         5       -170   \n",
       "5    122630           3         KODEX 레버리지   28545         2       2280   \n",
       "24   251340           3  KODEX 코스닥150선물인버스    4370         5        -15   \n",
       "11   233740           1  KODEX 코스닥150 레버리지   17060         2        130   \n",
       "79   252710           3   TIGER 200선물인버스2X    2125         5       -200   \n",
       "0    069500           1          KODEX 200   43535         2       1835   \n",
       "28   305720           2       KODEX 2차전지산업   18865         2        580   \n",
       "64   267770           3    TIGER 200선물레버리지   21435         2       1755   \n",
       "34   364980           2  TIGER KRX2차전지K-뉴딜   17195         2        675   \n",
       "\n",
       "    changeRate      nav  threeMonthEarnRate      quant   amonut  marketSum  \n",
       "7        -8.46   2052.0            -43.8048  410373699   872450      16806  \n",
       "15       -4.22   3859.0            -24.6729  104693211   411155       8766  \n",
       "5         8.68  28674.0             70.6627   74752179  2063208      16899  \n",
       "24       -0.34   4381.0            -15.5106   28336708   124105       4615  \n",
       "11        0.77  17226.0             30.0307   23003221   392002      12403  \n",
       "79       -8.60   2125.0            -43.6364   16077137    35413        975  \n",
       "0         4.40  43514.0             31.3427   10062117   430815      65172  \n",
       "28        3.17  18890.0             50.8041    9611162   181172       4414  \n",
       "64        8.92  21350.0             70.1686    5123947   106376       1372  \n",
       "34        4.09  17186.0             55.5555    4836204    83067       3791  "
      ]
     },
     "execution_count": 7,
     "metadata": {},
     "output_type": "execute_result"
    }
   ],
   "source": [
    "# https://finance.naver.com/sise/etf.nhn 에서 값을 비교해보면 quant는 거래량임을 알 수 있습니다.\n",
    "# 거래량(quant) 기준으로 내림차순으로 정렬하여 상위 10개의 데이터를 봅니다.\n",
    "df.sort_values(\"quant\", ascending=False).head(10)"
   ]
  },
  {
   "cell_type": "code",
   "execution_count": 8,
   "metadata": {
    "id": "_65UmaWzBYkq"
   },
   "outputs": [
    {
     "data": {
      "text/plain": [
       "1     64\n",
       "2    174\n",
       "3     31\n",
       "4     97\n",
       "5     14\n",
       "6     55\n",
       "7     33\n",
       "Name: etfTabCode, dtype: int64"
      ]
     },
     "execution_count": 8,
     "metadata": {},
     "output_type": "execute_result"
    }
   ],
   "source": [
    "# etfTabCode column의 데이터 구성을 살펴봅니다.\n",
    "# 추후 알게되겠지만 etfTabCode는 해당 사이트에서 \n",
    "# 전체(0), 국내 시장지수(1), 국내 업종/테마(2), 국내 파생(3) ~\n",
    "# 해외 주식(4), 원자재(5), 채권(6), 기타(7)로 자료가 구분되어 있습니다.\n",
    "df[\"etfTabCode\"].value_counts().sort_index()"
   ]
  },
  {
   "cell_type": "code",
   "execution_count": 9,
   "metadata": {
    "id": "k61c2Hr1BYkq"
   },
   "outputs": [
    {
     "data": {
      "text/html": [
       "<div>\n",
       "<style scoped>\n",
       "    .dataframe tbody tr th:only-of-type {\n",
       "        vertical-align: middle;\n",
       "    }\n",
       "\n",
       "    .dataframe tbody tr th {\n",
       "        vertical-align: top;\n",
       "    }\n",
       "\n",
       "    .dataframe thead th {\n",
       "        text-align: right;\n",
       "    }\n",
       "</style>\n",
       "<table border=\"1\" class=\"dataframe\">\n",
       "  <thead>\n",
       "    <tr style=\"text-align: right;\">\n",
       "      <th></th>\n",
       "      <th>itemcode</th>\n",
       "      <th>etfTabCode</th>\n",
       "      <th>itemname</th>\n",
       "      <th>nowVal</th>\n",
       "      <th>risefall</th>\n",
       "      <th>changeVal</th>\n",
       "      <th>changeRate</th>\n",
       "      <th>nav</th>\n",
       "      <th>threeMonthEarnRate</th>\n",
       "      <th>quant</th>\n",
       "      <th>amonut</th>\n",
       "      <th>marketSum</th>\n",
       "    </tr>\n",
       "  </thead>\n",
       "  <tbody>\n",
       "    <tr>\n",
       "      <th>0</th>\n",
       "      <td>069500</td>\n",
       "      <td>1</td>\n",
       "      <td>KODEX 200</td>\n",
       "      <td>43535</td>\n",
       "      <td>2</td>\n",
       "      <td>1835</td>\n",
       "      <td>4.40</td>\n",
       "      <td>43514.0</td>\n",
       "      <td>31.3427</td>\n",
       "      <td>10062117</td>\n",
       "      <td>430815</td>\n",
       "      <td>65172</td>\n",
       "    </tr>\n",
       "    <tr>\n",
       "      <th>1</th>\n",
       "      <td>102110</td>\n",
       "      <td>1</td>\n",
       "      <td>TIGER 200</td>\n",
       "      <td>43495</td>\n",
       "      <td>2</td>\n",
       "      <td>1855</td>\n",
       "      <td>4.45</td>\n",
       "      <td>43491.0</td>\n",
       "      <td>31.2777</td>\n",
       "      <td>1250320</td>\n",
       "      <td>53479</td>\n",
       "      <td>32230</td>\n",
       "    </tr>\n",
       "    <tr>\n",
       "      <th>3</th>\n",
       "      <td>310970</td>\n",
       "      <td>1</td>\n",
       "      <td>TIGER MSCI Korea TR</td>\n",
       "      <td>17600</td>\n",
       "      <td>2</td>\n",
       "      <td>720</td>\n",
       "      <td>4.27</td>\n",
       "      <td>17687.0</td>\n",
       "      <td>32.2884</td>\n",
       "      <td>271086</td>\n",
       "      <td>4704</td>\n",
       "      <td>18850</td>\n",
       "    </tr>\n",
       "    <tr>\n",
       "      <th>4</th>\n",
       "      <td>278540</td>\n",
       "      <td>1</td>\n",
       "      <td>KODEX MSCI Korea TR</td>\n",
       "      <td>14010</td>\n",
       "      <td>2</td>\n",
       "      <td>565</td>\n",
       "      <td>4.20</td>\n",
       "      <td>14087.0</td>\n",
       "      <td>32.7245</td>\n",
       "      <td>603229</td>\n",
       "      <td>8319</td>\n",
       "      <td>18675</td>\n",
       "    </tr>\n",
       "    <tr>\n",
       "      <th>8</th>\n",
       "      <td>278530</td>\n",
       "      <td>1</td>\n",
       "      <td>KODEX 200TR</td>\n",
       "      <td>13975</td>\n",
       "      <td>2</td>\n",
       "      <td>575</td>\n",
       "      <td>4.29</td>\n",
       "      <td>13996.0</td>\n",
       "      <td>31.5014</td>\n",
       "      <td>624668</td>\n",
       "      <td>8585</td>\n",
       "      <td>16728</td>\n",
       "    </tr>\n",
       "    <tr>\n",
       "      <th>...</th>\n",
       "      <td>...</td>\n",
       "      <td>...</td>\n",
       "      <td>...</td>\n",
       "      <td>...</td>\n",
       "      <td>...</td>\n",
       "      <td>...</td>\n",
       "      <td>...</td>\n",
       "      <td>...</td>\n",
       "      <td>...</td>\n",
       "      <td>...</td>\n",
       "      <td>...</td>\n",
       "      <td>...</td>\n",
       "    </tr>\n",
       "    <tr>\n",
       "      <th>397</th>\n",
       "      <td>295820</td>\n",
       "      <td>1</td>\n",
       "      <td>ARIRANG 200동일가중</td>\n",
       "      <td>10735</td>\n",
       "      <td>2</td>\n",
       "      <td>80</td>\n",
       "      <td>0.75</td>\n",
       "      <td>10761.0</td>\n",
       "      <td>23.8233</td>\n",
       "      <td>246</td>\n",
       "      <td>2</td>\n",
       "      <td>64</td>\n",
       "    </tr>\n",
       "    <tr>\n",
       "      <th>406</th>\n",
       "      <td>226980</td>\n",
       "      <td>1</td>\n",
       "      <td>KODEX 200 중소형</td>\n",
       "      <td>12390</td>\n",
       "      <td>2</td>\n",
       "      <td>55</td>\n",
       "      <td>0.45</td>\n",
       "      <td>12398.0</td>\n",
       "      <td>28.0228</td>\n",
       "      <td>5234</td>\n",
       "      <td>64</td>\n",
       "      <td>62</td>\n",
       "    </tr>\n",
       "    <tr>\n",
       "      <th>435</th>\n",
       "      <td>275750</td>\n",
       "      <td>1</td>\n",
       "      <td>KBSTAR 코스닥150선물인버스</td>\n",
       "      <td>4600</td>\n",
       "      <td>5</td>\n",
       "      <td>-10</td>\n",
       "      <td>-0.22</td>\n",
       "      <td>4604.0</td>\n",
       "      <td>-15.1794</td>\n",
       "      <td>11320</td>\n",
       "      <td>52</td>\n",
       "      <td>48</td>\n",
       "    </tr>\n",
       "    <tr>\n",
       "      <th>436</th>\n",
       "      <td>291610</td>\n",
       "      <td>1</td>\n",
       "      <td>KOSEF 코스닥150선물</td>\n",
       "      <td>9980</td>\n",
       "      <td>2</td>\n",
       "      <td>40</td>\n",
       "      <td>0.40</td>\n",
       "      <td>9962.0</td>\n",
       "      <td>15.7159</td>\n",
       "      <td>105</td>\n",
       "      <td>1</td>\n",
       "      <td>48</td>\n",
       "    </tr>\n",
       "    <tr>\n",
       "      <th>455</th>\n",
       "      <td>301400</td>\n",
       "      <td>1</td>\n",
       "      <td>ARIRANG 코스닥150</td>\n",
       "      <td>15290</td>\n",
       "      <td>2</td>\n",
       "      <td>80</td>\n",
       "      <td>0.53</td>\n",
       "      <td>15387.0</td>\n",
       "      <td>14.7058</td>\n",
       "      <td>1635</td>\n",
       "      <td>24</td>\n",
       "      <td>38</td>\n",
       "    </tr>\n",
       "  </tbody>\n",
       "</table>\n",
       "<p>64 rows × 12 columns</p>\n",
       "</div>"
      ],
      "text/plain": [
       "    itemcode  etfTabCode             itemname  nowVal  risefall  changeVal  \\\n",
       "0     069500           1            KODEX 200   43535         2       1835   \n",
       "1     102110           1            TIGER 200   43495         2       1855   \n",
       "3     310970           1  TIGER MSCI Korea TR   17600         2        720   \n",
       "4     278540           1  KODEX MSCI Korea TR   14010         2        565   \n",
       "8     278530           1          KODEX 200TR   13975         2        575   \n",
       "..       ...         ...                  ...     ...       ...        ...   \n",
       "397   295820           1      ARIRANG 200동일가중   10735         2         80   \n",
       "406   226980           1        KODEX 200 중소형   12390         2         55   \n",
       "435   275750           1   KBSTAR 코스닥150선물인버스    4600         5        -10   \n",
       "436   291610           1       KOSEF 코스닥150선물    9980         2         40   \n",
       "455   301400           1       ARIRANG 코스닥150   15290         2         80   \n",
       "\n",
       "     changeRate      nav  threeMonthEarnRate     quant  amonut  marketSum  \n",
       "0          4.40  43514.0             31.3427  10062117  430815      65172  \n",
       "1          4.45  43491.0             31.2777   1250320   53479      32230  \n",
       "3          4.27  17687.0             32.2884    271086    4704      18850  \n",
       "4          4.20  14087.0             32.7245    603229    8319      18675  \n",
       "8          4.29  13996.0             31.5014    624668    8585      16728  \n",
       "..          ...      ...                 ...       ...     ...        ...  \n",
       "397        0.75  10761.0             23.8233       246       2         64  \n",
       "406        0.45  12398.0             28.0228      5234      64         62  \n",
       "435       -0.22   4604.0            -15.1794     11320      52         48  \n",
       "436        0.40   9962.0             15.7159       105       1         48  \n",
       "455        0.53  15387.0             14.7058      1635      24         38  \n",
       "\n",
       "[64 rows x 12 columns]"
      ]
     },
     "execution_count": 9,
     "metadata": {},
     "output_type": "execute_result"
    }
   ],
   "source": [
    "# pandas 의 boolean Indexing을 사용해서\n",
    "# 국내 시장지수(etfTabCode == 1)의 데이터들만 확인하여 봅니다.\n",
    "# 조건문의 결과가 Index와  True, False 로 나오기 때문에 boolean Indexing 이라 부릅니다.\n",
    "df[df[\"etfTabCode\"] == 1]"
   ]
  },
  {
   "cell_type": "markdown",
   "metadata": {
    "id": "SAp8CMEYNw8H"
   },
   "source": [
    "## 데이터 전처리\n",
    "### etfTabName 만들기"
   ]
  },
  {
   "cell_type": "code",
   "execution_count": 10,
   "metadata": {
    "id": "8YTSMwXgBYkq"
   },
   "outputs": [
    {
     "data": {
      "text/plain": [
       "'전체\\n국내 시장지수\\n국내 업종/테마\\n국내 파생\\n해외 주식\\n원자재\\n채권\\n기타'"
      ]
     },
     "execution_count": 10,
     "metadata": {},
     "output_type": "execute_result"
    }
   ],
   "source": [
    "# etf name을 구분하기 위한 list를 만듭니다.\n",
    "# \"\"\" 를 이용해 \\n을 포함하는 string을 만들고 split으로 나누어서 list를 간편히 만들수 있습니다.\n",
    "eftcode = \"\"\"전체\n",
    "국내 시장지수\n",
    "국내 업종/테마\n",
    "국내 파생\n",
    "해외 주식\n",
    "원자재\n",
    "채권\n",
    "기타\"\"\"\n",
    "eftcode"
   ]
  },
  {
   "cell_type": "code",
   "execution_count": 11,
   "metadata": {
    "id": "H7AFA9ftBYkq"
   },
   "outputs": [
    {
     "data": {
      "text/plain": [
       "['전체', '국내 시장지수', '국내 업종/테마', '국내 파생', '해외 주식', '원자재', '채권', '기타']"
      ]
     },
     "execution_count": 11,
     "metadata": {},
     "output_type": "execute_result"
    }
   ],
   "source": [
    "# split으로 나누어 list형 데이터를 만듭니다.\n",
    "etf_tab_name = eftcode.split(\"\\n\")\n",
    "etf_tab_name"
   ]
  },
  {
   "cell_type": "code",
   "execution_count": 12,
   "metadata": {},
   "outputs": [
    {
     "data": {
      "text/plain": [
       "'국내 업종/테마'"
      ]
     },
     "execution_count": 12,
     "metadata": {},
     "output_type": "execute_result"
    }
   ],
   "source": [
    "def find_eft_tab_name(no):\n",
    "    return etf_tab_name[no]\n",
    "\n",
    "find_eft_tab_name(2)"
   ]
  },
  {
   "cell_type": "code",
   "execution_count": 13,
   "metadata": {
    "id": "LrmLD2j0BYkq"
   },
   "outputs": [],
   "source": [
    "# etfTabName 이름이 직관적이지 않기 때문에 한글로 변경해 줍니다.\n",
    "# map과 lambda 함수를 이용하여 eftTabCode column들의 각 cell의 내용에 따라\n",
    "# etf_tab_name list의 원소값에 따라 이름을 만들어 주고 etfTabName 이라는 새로운 컬럼을 생성합니다.\n",
    "# 즉 etfTabCode 숫자 -> list의 원소 인덱스로 한글 이름을 매핑해 줍니다. -> etfTabName에 한글로 저장\n",
    "df[\"etfTabName\"] = df[\"etfTabCode\"].map(lambda x : etf_tab_name[x])"
   ]
  },
  {
   "cell_type": "code",
   "execution_count": null,
   "metadata": {
    "id": "ked6jOdgBYkq"
   },
   "outputs": [],
   "source": [
    "# etfTabName column이 제대로 만들어졌는지 확인합니다.\n",
    "df.loc[df[\"etfTabCode\"] == 3, [\"itemname\", \"etfTabName\"]].head()"
   ]
  },
  {
   "cell_type": "markdown",
   "metadata": {},
   "source": [
    "* map : \n",
    "    * Series에서만 사용가능\n",
    "    * [Essential basic functionality — pandas documentation](https://pandas.pydata.org/docs/user_guide/basics.html?#applying-elementwise-functions)\n",
    "\n",
    "* apply :\n",
    "    * Series와 DataFrame 둘 다 사용가능\n",
    "    * [Essential basic functionality — pandas documentation](https://pandas.pydata.org/docs/user_guide/basics.html?#row-or-column-wise-function-application)"
   ]
  },
  {
   "cell_type": "markdown",
   "metadata": {},
   "source": [
    "### 컬럼명 변경하기"
   ]
  },
  {
   "cell_type": "code",
   "execution_count": 16,
   "metadata": {},
   "outputs": [
    {
     "data": {
      "text/plain": [
       "'종목명\\n현재가\\n전일비\\n등락률\\nNAV\\n3개월수익률\\n거래량\\n거래대금(백만)\\n시가총액(억)\\n'"
      ]
     },
     "execution_count": 16,
     "metadata": {},
     "output_type": "execute_result"
    }
   ],
   "source": [
    "\"\"\"종목명\n",
    "현재가\n",
    "전일비\n",
    "등락률\n",
    "NAV\n",
    "3개월수익률\n",
    "거래량\n",
    "거래대금(백만)\n",
    "시가총액(억)\n",
    "\"\"\""
   ]
  },
  {
   "cell_type": "code",
   "execution_count": 19,
   "metadata": {
    "id": "hmI_1aqBBYkq"
   },
   "outputs": [
    {
     "data": {
      "text/plain": [
       "['itemcode',\n",
       " 'etfTabCode',\n",
       " 'itemname',\n",
       " 'nowVal',\n",
       " 'risefall',\n",
       " 'changeVal',\n",
       " 'changeRate',\n",
       " 'nav',\n",
       " 'threeMonthEarnRate',\n",
       " 'quant',\n",
       " 'amonut',\n",
       " 'marketSum',\n",
       " 'etfTabName']"
      ]
     },
     "execution_count": 19,
     "metadata": {},
     "output_type": "execute_result"
    }
   ],
   "source": [
    "# DataFrame df의 column 이름을 list로 만들어서 cols 라는 변수에 담습니다.\n",
    "cols = df.columns.tolist()\n",
    "cols"
   ]
  },
  {
   "cell_type": "code",
   "execution_count": 22,
   "metadata": {
    "id": "1TF4kMp1BYkq"
   },
   "outputs": [],
   "source": [
    "# 영어로 되어있는 column 이름을 한글로 바꾸기 위한 list를 만듭니다.\n",
    "# 빠진 column이 있는지 리스트와 길이를 확인합니다.\n",
    "col_name = \"\"\"종목코드\n",
    "탭코드\n",
    "종목명\n",
    "현재가\n",
    "등락구분\n",
    "전일비\n",
    "등락률\n",
    "순자산가치(NAV)\n",
    "3개월수익률\n",
    "거래량\n",
    "거래대금(백만)\n",
    "시가총액(억)\n",
    "유형\"\"\"\n",
    "col_name = col_name.split(\"\\n\")"
   ]
  },
  {
   "cell_type": "code",
   "execution_count": 27,
   "metadata": {
    "id": "3N22l3f6BYkr"
   },
   "outputs": [
    {
     "data": {
      "text/plain": [
       "{'itemcode': '종목코드',\n",
       " 'etfTabCode': '탭코드',\n",
       " 'itemname': '종목명',\n",
       " 'nowVal': '현재가',\n",
       " 'risefall': '등락구분',\n",
       " 'changeVal': '전일비',\n",
       " 'changeRate': '등락률',\n",
       " 'nav': '순자산가치(NAV)',\n",
       " 'threeMonthEarnRate': '3개월수익률',\n",
       " 'quant': '거래량',\n",
       " 'amonut': '거래대금(백만)',\n",
       " 'marketSum': '시가총액(억)',\n",
       " 'etfTabName': '유형'}"
      ]
     },
     "execution_count": 27,
     "metadata": {},
     "output_type": "execute_result"
    }
   ],
   "source": [
    "# 컬럼 영문명과 한글명을 딕셔너리 형태로 만들어 비교해 볼 수도 있습니다.\n",
    "# 하지만 좀 더 간단하게 여기에서는 리스트 값을 그대로 컬럼에 넣어주는 방법을 사용할거에요.\n",
    "# 딕셔너리로 키-값 쌍을 만들어 컬럼의 키와 값이 잘 매치되었는지 확인해 봅니다.\n",
    "dict(zip(cols, col_name))"
   ]
  },
  {
   "cell_type": "code",
   "execution_count": 32,
   "metadata": {
    "id": "ieQ9S3L-BYkr"
   },
   "outputs": [
    {
     "data": {
      "text/plain": [
       "Index(['종목코드', '탭코드', '종목명', '현재가', '등락구분', '전일비', '등락률', '순자산가치(NAV)',\n",
       "       '3개월수익률', '거래량', '거래대금(백만)', '시가총액(억)', '유형'],\n",
       "      dtype='object')"
      ]
     },
     "execution_count": 32,
     "metadata": {},
     "output_type": "execute_result"
    }
   ],
   "source": [
    "# 기존의 데이터프레임 컬럼명에 위에서 만든 컬럼명을 할당연산자로 대입해 주면 컬럼명이 변경됩니다.\n",
    "# 컬럼 변경 후 한글로 컬럼명이 잘 변경되었는지 확인해 봅니다.\n",
    "df.columns = col_name\n",
    "df.columns"
   ]
  },
  {
   "cell_type": "markdown",
   "metadata": {},
   "source": [
    "### 파생변수 만들기\n",
    "* 브랜드, 인버스, 레버리지, 환헤지H 변수 만들기\n",
    "* [Working with text data — pandas documentation](https://pandas.pydata.org/docs/user_guide/text.html)"
   ]
  },
  {
   "cell_type": "code",
   "execution_count": 37,
   "metadata": {},
   "outputs": [
    {
     "data": {
      "text/plain": [
       "'KODEX'"
      ]
     },
     "execution_count": 37,
     "metadata": {},
     "output_type": "execute_result"
    }
   ],
   "source": [
    "\"KODEX 200\".split(\" \")[0]"
   ]
  },
  {
   "cell_type": "code",
   "execution_count": 42,
   "metadata": {
    "id": "F-8P7v-3BYkr",
    "scrolled": true
   },
   "outputs": [
    {
     "data": {
      "text/html": [
       "<div>\n",
       "<style scoped>\n",
       "    .dataframe tbody tr th:only-of-type {\n",
       "        vertical-align: middle;\n",
       "    }\n",
       "\n",
       "    .dataframe tbody tr th {\n",
       "        vertical-align: top;\n",
       "    }\n",
       "\n",
       "    .dataframe thead th {\n",
       "        text-align: right;\n",
       "    }\n",
       "</style>\n",
       "<table border=\"1\" class=\"dataframe\">\n",
       "  <thead>\n",
       "    <tr style=\"text-align: right;\">\n",
       "      <th></th>\n",
       "      <th>종목명</th>\n",
       "      <th>브랜드</th>\n",
       "    </tr>\n",
       "  </thead>\n",
       "  <tbody>\n",
       "    <tr>\n",
       "      <th>0</th>\n",
       "      <td>KODEX 200</td>\n",
       "      <td>KODEX</td>\n",
       "    </tr>\n",
       "    <tr>\n",
       "      <th>1</th>\n",
       "      <td>TIGER 200</td>\n",
       "      <td>TIGER</td>\n",
       "    </tr>\n",
       "    <tr>\n",
       "      <th>2</th>\n",
       "      <td>KODEX 단기채권</td>\n",
       "      <td>KODEX</td>\n",
       "    </tr>\n",
       "    <tr>\n",
       "      <th>3</th>\n",
       "      <td>TIGER MSCI Korea TR</td>\n",
       "      <td>TIGER</td>\n",
       "    </tr>\n",
       "    <tr>\n",
       "      <th>4</th>\n",
       "      <td>KODEX MSCI Korea TR</td>\n",
       "      <td>KODEX</td>\n",
       "    </tr>\n",
       "  </tbody>\n",
       "</table>\n",
       "</div>"
      ],
      "text/plain": [
       "                   종목명    브랜드\n",
       "0            KODEX 200  KODEX\n",
       "1            TIGER 200  TIGER\n",
       "2           KODEX 단기채권  KODEX\n",
       "3  TIGER MSCI Korea TR  TIGER\n",
       "4  KODEX MSCI Korea TR  KODEX"
      ]
     },
     "execution_count": 42,
     "metadata": {},
     "output_type": "execute_result"
    }
   ],
   "source": [
    "# 종목명 column의 데이터를 space(\" \")를 이용해 나누고 제일 앞부분[0]을 새로운 column을 만들어 저장하고 확인합니다.\n",
    "# expand = True 옵션을 사용하면 문자열을 나눈 값을 인덱스 순서대로 가져와서 사용할 수 있습니다.\n",
    "df[\"브랜드\"] = df[\"종목명\"].str.split(\" \", expand=True)[0]\n",
    "df[[\"종목명\", \"브랜드\"]].head()"
   ]
  },
  {
   "cell_type": "code",
   "execution_count": 43,
   "metadata": {},
   "outputs": [
    {
     "data": {
      "text/plain": [
       "array(['KODEX', 'TIGER', 'KBSTAR', 'ARIRANG', 'KINDEX', 'KOSEF', 'HANARO',\n",
       "       'SMART', 'TREX', '파워', 'FOCUS', 'KTOP', '마이티', '마이다스', '흥국'],\n",
       "      dtype=object)"
      ]
     },
     "execution_count": 43,
     "metadata": {},
     "output_type": "execute_result"
    }
   ],
   "source": [
    "df[\"브랜드\"].unique()"
   ]
  },
  {
   "cell_type": "markdown",
   "metadata": {
    "id": "d0YQdJoABYkr"
   },
   "source": [
    "* 종목명 column의 내용중이 '인버스'라는 단어가 있으면 새로운 column '인버스'에 True 값이 들어가게 됩니다.\n",
    "* contains는 bool type을 반환하기 때문에 새로운 column에는 True나 False가 들어가게 됩니다.\n",
    "* 마찬가지로 '레버리지'와 '환헤지H'에 대해서도 동일하게 만들어 줍니다. \n",
    "* H라는 단어가 종목명에 들어갈 수도 있기 때문에 H뒤에 닫는 소괄호\")\"까지 확인합니다.\n",
    "* 소괄호는 정규표현식에서 의미를 가지는 문자이기 때문에 문자 그대로 읽어오기 위해서는 \"\\\"로 전처리가 필요합니다."
   ]
  },
  {
   "cell_type": "code",
   "execution_count": 46,
   "metadata": {
    "id": "d0YQdJoABYkr"
   },
   "outputs": [
    {
     "data": {
      "text/plain": [
       "False    424\n",
       "True      44\n",
       "Name: 인버스, dtype: int64"
      ]
     },
     "execution_count": 46,
     "metadata": {},
     "output_type": "execute_result"
    }
   ],
   "source": [
    "# 인버스ETF는 지수가 하락하면 오히려 수익률이 오르도록 설계된 상품입니다.\n",
    "df[\"인버스\"] = df[\"종목명\"].str.contains(\"인버스\")\n",
    "df[\"인버스\"].value_counts()"
   ]
  },
  {
   "cell_type": "markdown",
   "metadata": {},
   "source": [
    "레버리지(leverage)는 타인의 자본을 지렛대처럼 이용하여 자기 자본의 이익률을 높이는 것이다. 고정비용이 있을 때 매출액의 변화가 기업의 손익에 미치는 영향을 분석하는 데에 쓰인다. 이는 고정영업비용과 고정재무비용의 부담정도에 따라 기업에게 귀속되는 최종적인 주당이익에 어떤 영향을 미치는지 분석할 수 있게 한다.\n",
    "\n",
    "* 출처 : [레버리지 - 위키백과, 우리 모두의 백과사전](https://ko.wikipedia.org/wiki/%EB%A0%88%EB%B2%84%EB%A6%AC%EC%A7%80)"
   ]
  },
  {
   "cell_type": "code",
   "execution_count": 52,
   "metadata": {
    "id": "d0YQdJoABYkr"
   },
   "outputs": [
    {
     "data": {
      "text/plain": [
       "False    92.735043\n",
       "True      7.264957\n",
       "Name: 레버리지, dtype: float64"
      ]
     },
     "execution_count": 52,
     "metadata": {},
     "output_type": "execute_result"
    }
   ],
   "source": [
    "df[\"레버리지\"] = df[\"종목명\"].str.contains(\"레버리지\")\n",
    "df[\"레버리지\"].value_counts(normalize=True) * 100"
   ]
  },
  {
   "cell_type": "markdown",
   "metadata": {},
   "source": [
    "헤지(hedge)란 환율, 금리 또는 다른 자산에 대한 투자등을 통해 보유하고 있는 위험자산의 가격변동을 제거하는 것을 말한다. 즉, 확정되지 않은 자산을 확정된 자산으로 편입하는 과정이라 할 수 있으며, 주로 선물 옵션과 같은 파생상품을 이용한다. 이를 통해 체계적 위험을 제거할 수 있다.\n",
    "\n",
    "부(wealth)를 결정하는 변수값의 변화와 관계없이 항상 일정한 부를 유지하게 하는 헤지를 완전헤지라고 하고, 그렇지 못한 것을 불완전헤지라고 한다.\n",
    "* 출처 : [헤지 - 위키백과, 우리 모두의 백과사전](https://ko.wikipedia.org/wiki/%ED%97%A4%EC%A7%80)"
   ]
  },
  {
   "cell_type": "code",
   "execution_count": 58,
   "metadata": {
    "id": "d0YQdJoABYkr"
   },
   "outputs": [
    {
     "data": {
      "text/html": [
       "<div>\n",
       "<style scoped>\n",
       "    .dataframe tbody tr th:only-of-type {\n",
       "        vertical-align: middle;\n",
       "    }\n",
       "\n",
       "    .dataframe tbody tr th {\n",
       "        vertical-align: top;\n",
       "    }\n",
       "\n",
       "    .dataframe thead th {\n",
       "        text-align: right;\n",
       "    }\n",
       "</style>\n",
       "<table border=\"1\" class=\"dataframe\">\n",
       "  <thead>\n",
       "    <tr style=\"text-align: right;\">\n",
       "      <th></th>\n",
       "      <th>종목명</th>\n",
       "      <th>환헤지H</th>\n",
       "    </tr>\n",
       "  </thead>\n",
       "  <tbody>\n",
       "    <tr>\n",
       "      <th>463</th>\n",
       "      <td>ARIRANG KRX300IT</td>\n",
       "      <td>False</td>\n",
       "    </tr>\n",
       "    <tr>\n",
       "      <th>464</th>\n",
       "      <td>KBSTAR 200철강소재</td>\n",
       "      <td>False</td>\n",
       "    </tr>\n",
       "    <tr>\n",
       "      <th>465</th>\n",
       "      <td>KBSTAR 팔라듐선물인버스(H)</td>\n",
       "      <td>True</td>\n",
       "    </tr>\n",
       "    <tr>\n",
       "      <th>466</th>\n",
       "      <td>KBSTAR 200금융</td>\n",
       "      <td>False</td>\n",
       "    </tr>\n",
       "    <tr>\n",
       "      <th>467</th>\n",
       "      <td>KBSTAR 미국장기국채선물인버스2X(합성 H)</td>\n",
       "      <td>True</td>\n",
       "    </tr>\n",
       "  </tbody>\n",
       "</table>\n",
       "</div>"
      ],
      "text/plain": [
       "                            종목명   환헤지H\n",
       "463            ARIRANG KRX300IT  False\n",
       "464              KBSTAR 200철강소재  False\n",
       "465          KBSTAR 팔라듐선물인버스(H)   True\n",
       "466                KBSTAR 200금융  False\n",
       "467  KBSTAR 미국장기국채선물인버스2X(합성 H)   True"
      ]
     },
     "execution_count": 58,
     "metadata": {},
     "output_type": "execute_result"
    }
   ],
   "source": [
    "# (H)의 의미는 환율변동 위험을 막기 위해 Hedge를 한다는 뜻입니다.\n",
    "df[\"환헤지H\"] = df[\"종목명\"].str.endswith(\"H)\")\n",
    "df[[\"종목명\", \"환헤지H\"]].tail(5)"
   ]
  },
  {
   "cell_type": "markdown",
   "metadata": {},
   "source": [
    "### 전처리가 잘 되었는지 확인하기"
   ]
  },
  {
   "cell_type": "code",
   "execution_count": 61,
   "metadata": {},
   "outputs": [
    {
     "data": {
      "text/plain": [
       "2    339\n",
       "5    106\n",
       "3     23\n",
       "Name: 등락구분, dtype: int64"
      ]
     },
     "execution_count": 61,
     "metadata": {},
     "output_type": "execute_result"
    }
   ],
   "source": [
    "# 등락구분에 있는 값의 빈도수를 세어봅니다.\n",
    "df[\"등락구분\"].value_counts()"
   ]
  },
  {
   "cell_type": "code",
   "execution_count": 62,
   "metadata": {
    "id": "MCaYBOfYBYkr"
   },
   "outputs": [
    {
     "name": "stdout",
     "output_type": "stream",
     "text": [
      "<class 'pandas.core.frame.DataFrame'>\n",
      "RangeIndex: 468 entries, 0 to 467\n",
      "Data columns (total 17 columns):\n",
      " #   Column      Non-Null Count  Dtype  \n",
      "---  ------      --------------  -----  \n",
      " 0   종목코드        468 non-null    object \n",
      " 1   탭코드         468 non-null    int64  \n",
      " 2   종목명         468 non-null    object \n",
      " 3   현재가         468 non-null    int64  \n",
      " 4   등락구분        468 non-null    int64  \n",
      " 5   전일비         468 non-null    int64  \n",
      " 6   등락률         468 non-null    float64\n",
      " 7   순자산가치(NAV)  341 non-null    float64\n",
      " 8   3개월수익률      447 non-null    float64\n",
      " 9   거래량         468 non-null    int64  \n",
      " 10  거래대금(백만)    468 non-null    int64  \n",
      " 11  시가총액(억)     468 non-null    int64  \n",
      " 12  유형          468 non-null    object \n",
      " 13  브랜드         468 non-null    object \n",
      " 14  인버스         468 non-null    bool   \n",
      " 15  레버리지        468 non-null    bool   \n",
      " 16  환헤지H        468 non-null    bool   \n",
      "dtypes: bool(3), float64(3), int64(7), object(4)\n",
      "memory usage: 52.7+ KB\n"
     ]
    }
   ],
   "source": [
    "# 전체적으로 데이터 전처리가 끝났다면 info를 통해 데이터 요약정보 보기\n",
    "df.info()"
   ]
  },
  {
   "cell_type": "markdown",
   "metadata": {},
   "source": [
    "## 파일로 저장하기"
   ]
  },
  {
   "cell_type": "code",
   "execution_count": 65,
   "metadata": {},
   "outputs": [
    {
     "data": {
      "text/plain": [
       "'eft_2021-01-08.csv'"
      ]
     },
     "execution_count": 65,
     "metadata": {},
     "output_type": "execute_result"
    }
   ],
   "source": [
    "# 기존에 불러왔던 파일명에서 _raw를 제거하고 새로운 파일명으로 저장합니다.\n",
    "save_file_name = file_name.replace(\"_raw\", \"\")\n",
    "save_file_name"
   ]
  },
  {
   "cell_type": "code",
   "execution_count": 73,
   "metadata": {
    "id": "WTKYc0eBBYkt"
   },
   "outputs": [],
   "source": [
    "# pandas의 to_csv로 파일을 저장합니다.\n",
    "# index=False로 인덱스값은 저장하지 않습니다.\n",
    "df.to_csv(save_file_name, index=False)"
   ]
  },
  {
   "cell_type": "code",
   "execution_count": 74,
   "metadata": {},
   "outputs": [
    {
     "data": {
      "text/html": [
       "<div>\n",
       "<style scoped>\n",
       "    .dataframe tbody tr th:only-of-type {\n",
       "        vertical-align: middle;\n",
       "    }\n",
       "\n",
       "    .dataframe tbody tr th {\n",
       "        vertical-align: top;\n",
       "    }\n",
       "\n",
       "    .dataframe thead th {\n",
       "        text-align: right;\n",
       "    }\n",
       "</style>\n",
       "<table border=\"1\" class=\"dataframe\">\n",
       "  <thead>\n",
       "    <tr style=\"text-align: right;\">\n",
       "      <th></th>\n",
       "      <th>종목코드</th>\n",
       "      <th>탭코드</th>\n",
       "      <th>종목명</th>\n",
       "      <th>현재가</th>\n",
       "      <th>등락구분</th>\n",
       "      <th>전일비</th>\n",
       "      <th>등락률</th>\n",
       "      <th>순자산가치(NAV)</th>\n",
       "      <th>3개월수익률</th>\n",
       "      <th>거래량</th>\n",
       "      <th>거래대금(백만)</th>\n",
       "      <th>시가총액(억)</th>\n",
       "      <th>유형</th>\n",
       "      <th>브랜드</th>\n",
       "      <th>인버스</th>\n",
       "      <th>레버리지</th>\n",
       "      <th>환헤지H</th>\n",
       "    </tr>\n",
       "  </thead>\n",
       "  <tbody>\n",
       "    <tr>\n",
       "      <th>0</th>\n",
       "      <td>069500</td>\n",
       "      <td>1</td>\n",
       "      <td>KODEX 200</td>\n",
       "      <td>43535</td>\n",
       "      <td>2</td>\n",
       "      <td>1835</td>\n",
       "      <td>4.40</td>\n",
       "      <td>43514.0</td>\n",
       "      <td>31.3427</td>\n",
       "      <td>10062117</td>\n",
       "      <td>430815</td>\n",
       "      <td>65172</td>\n",
       "      <td>국내 시장지수</td>\n",
       "      <td>KODEX</td>\n",
       "      <td>False</td>\n",
       "      <td>False</td>\n",
       "      <td>False</td>\n",
       "    </tr>\n",
       "    <tr>\n",
       "      <th>1</th>\n",
       "      <td>102110</td>\n",
       "      <td>1</td>\n",
       "      <td>TIGER 200</td>\n",
       "      <td>43495</td>\n",
       "      <td>2</td>\n",
       "      <td>1855</td>\n",
       "      <td>4.45</td>\n",
       "      <td>43491.0</td>\n",
       "      <td>31.2777</td>\n",
       "      <td>1250320</td>\n",
       "      <td>53479</td>\n",
       "      <td>32230</td>\n",
       "      <td>국내 시장지수</td>\n",
       "      <td>TIGER</td>\n",
       "      <td>False</td>\n",
       "      <td>False</td>\n",
       "      <td>False</td>\n",
       "    </tr>\n",
       "    <tr>\n",
       "      <th>2</th>\n",
       "      <td>153130</td>\n",
       "      <td>6</td>\n",
       "      <td>KODEX 단기채권</td>\n",
       "      <td>102645</td>\n",
       "      <td>5</td>\n",
       "      <td>-5</td>\n",
       "      <td>0.00</td>\n",
       "      <td>102647.0</td>\n",
       "      <td>0.1463</td>\n",
       "      <td>22326</td>\n",
       "      <td>2291</td>\n",
       "      <td>19934</td>\n",
       "      <td>채권</td>\n",
       "      <td>KODEX</td>\n",
       "      <td>False</td>\n",
       "      <td>False</td>\n",
       "      <td>False</td>\n",
       "    </tr>\n",
       "    <tr>\n",
       "      <th>3</th>\n",
       "      <td>310970</td>\n",
       "      <td>1</td>\n",
       "      <td>TIGER MSCI Korea TR</td>\n",
       "      <td>17600</td>\n",
       "      <td>2</td>\n",
       "      <td>720</td>\n",
       "      <td>4.27</td>\n",
       "      <td>17687.0</td>\n",
       "      <td>32.2884</td>\n",
       "      <td>271086</td>\n",
       "      <td>4704</td>\n",
       "      <td>18850</td>\n",
       "      <td>국내 시장지수</td>\n",
       "      <td>TIGER</td>\n",
       "      <td>False</td>\n",
       "      <td>False</td>\n",
       "      <td>False</td>\n",
       "    </tr>\n",
       "    <tr>\n",
       "      <th>4</th>\n",
       "      <td>278540</td>\n",
       "      <td>1</td>\n",
       "      <td>KODEX MSCI Korea TR</td>\n",
       "      <td>14010</td>\n",
       "      <td>2</td>\n",
       "      <td>565</td>\n",
       "      <td>4.20</td>\n",
       "      <td>14087.0</td>\n",
       "      <td>32.7245</td>\n",
       "      <td>603229</td>\n",
       "      <td>8319</td>\n",
       "      <td>18675</td>\n",
       "      <td>국내 시장지수</td>\n",
       "      <td>KODEX</td>\n",
       "      <td>False</td>\n",
       "      <td>False</td>\n",
       "      <td>False</td>\n",
       "    </tr>\n",
       "    <tr>\n",
       "      <th>...</th>\n",
       "      <td>...</td>\n",
       "      <td>...</td>\n",
       "      <td>...</td>\n",
       "      <td>...</td>\n",
       "      <td>...</td>\n",
       "      <td>...</td>\n",
       "      <td>...</td>\n",
       "      <td>...</td>\n",
       "      <td>...</td>\n",
       "      <td>...</td>\n",
       "      <td>...</td>\n",
       "      <td>...</td>\n",
       "      <td>...</td>\n",
       "      <td>...</td>\n",
       "      <td>...</td>\n",
       "      <td>...</td>\n",
       "      <td>...</td>\n",
       "    </tr>\n",
       "    <tr>\n",
       "      <th>463</th>\n",
       "      <td>309170</td>\n",
       "      <td>2</td>\n",
       "      <td>ARIRANG KRX300IT</td>\n",
       "      <td>20530</td>\n",
       "      <td>2</td>\n",
       "      <td>805</td>\n",
       "      <td>4.08</td>\n",
       "      <td>20550.0</td>\n",
       "      <td>39.4978</td>\n",
       "      <td>508</td>\n",
       "      <td>10</td>\n",
       "      <td>29</td>\n",
       "      <td>국내 업종/테마</td>\n",
       "      <td>ARIRANG</td>\n",
       "      <td>False</td>\n",
       "      <td>False</td>\n",
       "      <td>False</td>\n",
       "    </tr>\n",
       "    <tr>\n",
       "      <th>464</th>\n",
       "      <td>285020</td>\n",
       "      <td>2</td>\n",
       "      <td>KBSTAR 200철강소재</td>\n",
       "      <td>7815</td>\n",
       "      <td>2</td>\n",
       "      <td>30</td>\n",
       "      <td>0.39</td>\n",
       "      <td>7854.0</td>\n",
       "      <td>39.7666</td>\n",
       "      <td>13524</td>\n",
       "      <td>106</td>\n",
       "      <td>28</td>\n",
       "      <td>국내 업종/테마</td>\n",
       "      <td>KBSTAR</td>\n",
       "      <td>False</td>\n",
       "      <td>False</td>\n",
       "      <td>False</td>\n",
       "    </tr>\n",
       "    <tr>\n",
       "      <th>465</th>\n",
       "      <td>334700</td>\n",
       "      <td>5</td>\n",
       "      <td>KBSTAR 팔라듐선물인버스(H)</td>\n",
       "      <td>5110</td>\n",
       "      <td>2</td>\n",
       "      <td>40</td>\n",
       "      <td>0.79</td>\n",
       "      <td>NaN</td>\n",
       "      <td>-4.1588</td>\n",
       "      <td>793</td>\n",
       "      <td>4</td>\n",
       "      <td>26</td>\n",
       "      <td>원자재</td>\n",
       "      <td>KBSTAR</td>\n",
       "      <td>True</td>\n",
       "      <td>False</td>\n",
       "      <td>True</td>\n",
       "    </tr>\n",
       "    <tr>\n",
       "      <th>466</th>\n",
       "      <td>284980</td>\n",
       "      <td>2</td>\n",
       "      <td>KBSTAR 200금융</td>\n",
       "      <td>8265</td>\n",
       "      <td>5</td>\n",
       "      <td>-10</td>\n",
       "      <td>-0.12</td>\n",
       "      <td>8310.0</td>\n",
       "      <td>23.2315</td>\n",
       "      <td>4196</td>\n",
       "      <td>34</td>\n",
       "      <td>25</td>\n",
       "      <td>국내 업종/테마</td>\n",
       "      <td>KBSTAR</td>\n",
       "      <td>False</td>\n",
       "      <td>False</td>\n",
       "      <td>False</td>\n",
       "    </tr>\n",
       "    <tr>\n",
       "      <th>467</th>\n",
       "      <td>267500</td>\n",
       "      <td>4</td>\n",
       "      <td>KBSTAR 미국장기국채선물인버스2X(합성 H)</td>\n",
       "      <td>6030</td>\n",
       "      <td>2</td>\n",
       "      <td>75</td>\n",
       "      <td>1.26</td>\n",
       "      <td>NaN</td>\n",
       "      <td>6.9120</td>\n",
       "      <td>7617</td>\n",
       "      <td>45</td>\n",
       "      <td>21</td>\n",
       "      <td>해외 주식</td>\n",
       "      <td>KBSTAR</td>\n",
       "      <td>True</td>\n",
       "      <td>False</td>\n",
       "      <td>True</td>\n",
       "    </tr>\n",
       "  </tbody>\n",
       "</table>\n",
       "<p>468 rows × 17 columns</p>\n",
       "</div>"
      ],
      "text/plain": [
       "       종목코드  탭코드                         종목명     현재가  등락구분   전일비   등락률  \\\n",
       "0    069500    1                   KODEX 200   43535     2  1835  4.40   \n",
       "1    102110    1                   TIGER 200   43495     2  1855  4.45   \n",
       "2    153130    6                  KODEX 단기채권  102645     5    -5  0.00   \n",
       "3    310970    1         TIGER MSCI Korea TR   17600     2   720  4.27   \n",
       "4    278540    1         KODEX MSCI Korea TR   14010     2   565  4.20   \n",
       "..      ...  ...                         ...     ...   ...   ...   ...   \n",
       "463  309170    2            ARIRANG KRX300IT   20530     2   805  4.08   \n",
       "464  285020    2              KBSTAR 200철강소재    7815     2    30  0.39   \n",
       "465  334700    5          KBSTAR 팔라듐선물인버스(H)    5110     2    40  0.79   \n",
       "466  284980    2                KBSTAR 200금융    8265     5   -10 -0.12   \n",
       "467  267500    4  KBSTAR 미국장기국채선물인버스2X(합성 H)    6030     2    75  1.26   \n",
       "\n",
       "     순자산가치(NAV)   3개월수익률       거래량  거래대금(백만)  시가총액(억)        유형      브랜드  \\\n",
       "0       43514.0  31.3427  10062117    430815    65172   국내 시장지수    KODEX   \n",
       "1       43491.0  31.2777   1250320     53479    32230   국내 시장지수    TIGER   \n",
       "2      102647.0   0.1463     22326      2291    19934        채권    KODEX   \n",
       "3       17687.0  32.2884    271086      4704    18850   국내 시장지수    TIGER   \n",
       "4       14087.0  32.7245    603229      8319    18675   국내 시장지수    KODEX   \n",
       "..          ...      ...       ...       ...      ...       ...      ...   \n",
       "463     20550.0  39.4978       508        10       29  국내 업종/테마  ARIRANG   \n",
       "464      7854.0  39.7666     13524       106       28  국내 업종/테마   KBSTAR   \n",
       "465         NaN  -4.1588       793         4       26       원자재   KBSTAR   \n",
       "466      8310.0  23.2315      4196        34       25  국내 업종/테마   KBSTAR   \n",
       "467         NaN   6.9120      7617        45       21     해외 주식   KBSTAR   \n",
       "\n",
       "       인버스   레버리지   환헤지H  \n",
       "0    False  False  False  \n",
       "1    False  False  False  \n",
       "2    False  False  False  \n",
       "3    False  False  False  \n",
       "4    False  False  False  \n",
       "..     ...    ...    ...  \n",
       "463  False  False  False  \n",
       "464  False  False  False  \n",
       "465   True  False   True  \n",
       "466  False  False  False  \n",
       "467   True  False   True  \n",
       "\n",
       "[468 rows x 17 columns]"
      ]
     },
     "execution_count": 74,
     "metadata": {},
     "output_type": "execute_result"
    }
   ],
   "source": [
    "# 저장한 파일을 읽어와서 제대로 저장되었는지 확인합니다.\n",
    "# 또, 종목코드는 그냥 읽어오면 숫자 맨 앞의 0이 생략될 수 있으니 object 타입으로 불러옵니다.\n",
    "pd.read_csv(save_file_name, dtype={\"종목코드\":np.object})"
   ]
  },
  {
   "cell_type": "code",
   "execution_count": null,
   "metadata": {},
   "outputs": [],
   "source": []
  }
 ],
 "metadata": {
  "colab": {
   "collapsed_sections": [],
   "name": "8. naver-etf-eda.ipynb",
   "provenance": [],
   "toc_visible": true
  },
  "kernelspec": {
   "display_name": "Python 3",
   "language": "python",
   "name": "python3"
  },
  "language_info": {
   "codemirror_mode": {
    "name": "ipython",
    "version": 3
   },
   "file_extension": ".py",
   "mimetype": "text/x-python",
   "name": "python",
   "nbconvert_exporter": "python",
   "pygments_lexer": "ipython3",
   "version": "3.7.6"
  },
  "toc": {
   "base_numbering": 1,
   "nav_menu": {},
   "number_sections": true,
   "sideBar": true,
   "skip_h1_title": false,
   "title_cell": "Table of Contents",
   "title_sidebar": "Contents",
   "toc_cell": false,
   "toc_position": {
    "height": "calc(100% - 180px)",
    "left": "10px",
    "top": "150px",
    "width": "202px"
   },
   "toc_section_display": true,
   "toc_window_display": true
  },
  "varInspector": {
   "cols": {
    "lenName": 16,
    "lenType": 16,
    "lenVar": 40
   },
   "kernels_config": {
    "python": {
     "delete_cmd_postfix": "",
     "delete_cmd_prefix": "del ",
     "library": "var_list.py",
     "varRefreshCmd": "print(var_dic_list())"
    },
    "r": {
     "delete_cmd_postfix": ") ",
     "delete_cmd_prefix": "rm(",
     "library": "var_list.r",
     "varRefreshCmd": "cat(var_dic_list()) "
    }
   },
   "types_to_exclude": [
    "module",
    "function",
    "builtin_function_or_method",
    "instance",
    "_Feature"
   ],
   "window_display": false
  }
 },
 "nbformat": 4,
 "nbformat_minor": 1
}
