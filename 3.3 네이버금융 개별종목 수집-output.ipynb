{
 "cells": [
  {
   "cell_type": "markdown",
   "metadata": {
    "id": "pOdYzjmEAGhg"
   },
   "source": [
    "## 네이버 금융 개별종목 수집\n",
    "* FinanceDataReader를 통해 수집했던 데이터를 네이버 증권 웹 페이지를 통해 직접 수집합니다.\n",
    "\n",
    "\n",
    "### Keyword\n",
    "\n",
    "* html 파일 읽어오기\n",
    "    * pd.read_html(url, encoding=\"cp949\")\n",
    "\n",
    "* 결측 데이터 제거하기(axis 0:행, 1:열)\n",
    "    * table[0].dropna()\n",
    "\n",
    "* 데이터 프레임 합치기\n",
    "    * pd.concat([df1, df2, df3])\n",
    "\n",
    "* 중복데이터 제거\n",
    "    * df.drop_duplicates()\n",
    "\n",
    "* 과학적 기수법\n",
    "    * 1.210000e+02 => 121\n",
    "\n",
    "* 날짜 column의 첫 row값 확인\n",
    "    * date = df.iloc[0][\"날짜\"]\n",
    "\n",
    "* 파일로 저장하기 \n",
    "    * df.to_csv(file_name, index=False)\n",
    "\n",
    "* 파일 읽어오기\n",
    "    * pd.read_csv(file_name)"
   ]
  },
  {
   "cell_type": "markdown",
   "metadata": {
    "id": "-lIn4AdJTMkA"
   },
   "source": [
    "## 수집할 페이지 보기\n",
    "\n",
    "* 네이버 금융 국내증시 : https://finance.naver.com/sise/\n",
    "* 2020년 주요 상장종목\n",
    "    * 빅히트 : https://finance.naver.com/item/main.nhn?code=352820\n",
    "    * 카카오게임즈 : https://finance.naver.com/item/main.nhn?code=293490\n",
    "    * SK바이오팜 : https://finance.naver.com/item/main.nhn?code=326030"
   ]
  },
  {
   "cell_type": "markdown",
   "metadata": {},
   "source": [
    "## 라이브러리 로드"
   ]
  },
  {
   "cell_type": "code",
   "execution_count": 1,
   "metadata": {
    "id": "6Mm8vuymTMkA"
   },
   "outputs": [],
   "source": [
    "# 라이브러리 로드\n",
    "import pandas as pd"
   ]
  },
  {
   "cell_type": "markdown",
   "metadata": {},
   "source": [
    "## 수집할 URL 정하기"
   ]
  },
  {
   "cell_type": "code",
   "execution_count": 41,
   "metadata": {
    "id": "QzZJoAvoTMkA"
   },
   "outputs": [
    {
     "data": {
      "text/plain": [
       "'https://finance.naver.com/item/sise_day.nhn?code=326030&page=1'"
      ]
     },
     "execution_count": 41,
     "metadata": {},
     "output_type": "execute_result"
    }
   ],
   "source": [
    "# 종목번호와 상장사 이름을 item_code와 item_name으로 설정\n",
    "# item_code = \"352820\"\n",
    "# item_name = \"빅히트\"\n",
    "\n",
    "item_code = \"326030\"\n",
    "item_name = \"SK바이오팜\"\n",
    "\n",
    "\n",
    "# 종목 URL 만들기\n",
    "url = f\"https://finance.naver.com/item/sise_day.nhn?code={item_code}&page=1\"\n",
    "url"
   ]
  },
  {
   "cell_type": "markdown",
   "metadata": {},
   "source": [
    "## pandas 코드 한 줄로 데이터 수집하기"
   ]
  },
  {
   "cell_type": "code",
   "execution_count": 42,
   "metadata": {
    "id": "T3e0Jt0mTMkA"
   },
   "outputs": [
    {
     "data": {
      "text/plain": [
       "2"
      ]
     },
     "execution_count": 42,
     "metadata": {},
     "output_type": "execute_result"
    }
   ],
   "source": [
    "# read_html을 이용하여 url의 page내의 값을 DataFrame으로 받아옵니다.\n",
    "# cp949는 한글 인코딩을 위해 사용합니다. 기본 인코딩 설정은 utf-8 이며, \n",
    "# 네이버의 일별 시세는 cp949 인코딩으로 불러올 수 있습니다.\n",
    "# 데이터를 로드 했을 때 한글 인코딩이 깨진다면 대부분 cp949 로 불러올 수 있습니다.\n",
    "table = pd.read_html(url, encoding=\"cp949\")\n",
    "len(table)"
   ]
  },
  {
   "cell_type": "code",
   "execution_count": 43,
   "metadata": {
    "id": "GQ_LCYp0TMkA"
   },
   "outputs": [],
   "source": [
    "# table[0]와 table[1]을 확인하여 보면 table[0]에 필요한 데이터들이 있습니다.\n",
    "temp = table[0]"
   ]
  },
  {
   "cell_type": "code",
   "execution_count": 44,
   "metadata": {
    "id": "0gI1rNUbTMkA"
   },
   "outputs": [
    {
     "data": {
      "text/html": [
       "<div>\n",
       "<style scoped>\n",
       "    .dataframe tbody tr th:only-of-type {\n",
       "        vertical-align: middle;\n",
       "    }\n",
       "\n",
       "    .dataframe tbody tr th {\n",
       "        vertical-align: top;\n",
       "    }\n",
       "\n",
       "    .dataframe thead th {\n",
       "        text-align: right;\n",
       "    }\n",
       "</style>\n",
       "<table border=\"1\" class=\"dataframe\">\n",
       "  <thead>\n",
       "    <tr style=\"text-align: right;\">\n",
       "      <th></th>\n",
       "      <th>날짜</th>\n",
       "      <th>종가</th>\n",
       "      <th>전일비</th>\n",
       "      <th>시가</th>\n",
       "      <th>고가</th>\n",
       "      <th>저가</th>\n",
       "      <th>거래량</th>\n",
       "    </tr>\n",
       "  </thead>\n",
       "  <tbody>\n",
       "    <tr>\n",
       "      <th>1</th>\n",
       "      <td>2021.01.07</td>\n",
       "      <td>158500.0</td>\n",
       "      <td>1000.0</td>\n",
       "      <td>160000.0</td>\n",
       "      <td>160500.0</td>\n",
       "      <td>157500.0</td>\n",
       "      <td>338618.0</td>\n",
       "    </tr>\n",
       "    <tr>\n",
       "      <th>2</th>\n",
       "      <td>2021.01.06</td>\n",
       "      <td>159500.0</td>\n",
       "      <td>1000.0</td>\n",
       "      <td>161500.0</td>\n",
       "      <td>162500.0</td>\n",
       "      <td>158000.0</td>\n",
       "      <td>626403.0</td>\n",
       "    </tr>\n",
       "    <tr>\n",
       "      <th>3</th>\n",
       "      <td>2021.01.05</td>\n",
       "      <td>160500.0</td>\n",
       "      <td>6000.0</td>\n",
       "      <td>155000.0</td>\n",
       "      <td>162500.0</td>\n",
       "      <td>152500.0</td>\n",
       "      <td>1377082.0</td>\n",
       "    </tr>\n",
       "    <tr>\n",
       "      <th>4</th>\n",
       "      <td>2021.01.04</td>\n",
       "      <td>154500.0</td>\n",
       "      <td>14500.0</td>\n",
       "      <td>149500.0</td>\n",
       "      <td>157000.0</td>\n",
       "      <td>149000.0</td>\n",
       "      <td>3338448.0</td>\n",
       "    </tr>\n",
       "    <tr>\n",
       "      <th>5</th>\n",
       "      <td>2020.12.30</td>\n",
       "      <td>169000.0</td>\n",
       "      <td>1000.0</td>\n",
       "      <td>168000.0</td>\n",
       "      <td>169500.0</td>\n",
       "      <td>167000.0</td>\n",
       "      <td>221674.0</td>\n",
       "    </tr>\n",
       "    <tr>\n",
       "      <th>9</th>\n",
       "      <td>2020.12.29</td>\n",
       "      <td>168000.0</td>\n",
       "      <td>500.0</td>\n",
       "      <td>168500.0</td>\n",
       "      <td>171500.0</td>\n",
       "      <td>167000.0</td>\n",
       "      <td>166056.0</td>\n",
       "    </tr>\n",
       "    <tr>\n",
       "      <th>10</th>\n",
       "      <td>2020.12.28</td>\n",
       "      <td>167500.0</td>\n",
       "      <td>3500.0</td>\n",
       "      <td>172000.0</td>\n",
       "      <td>172000.0</td>\n",
       "      <td>167000.0</td>\n",
       "      <td>214254.0</td>\n",
       "    </tr>\n",
       "    <tr>\n",
       "      <th>11</th>\n",
       "      <td>2020.12.24</td>\n",
       "      <td>171000.0</td>\n",
       "      <td>0.0</td>\n",
       "      <td>171000.0</td>\n",
       "      <td>171500.0</td>\n",
       "      <td>168500.0</td>\n",
       "      <td>133848.0</td>\n",
       "    </tr>\n",
       "    <tr>\n",
       "      <th>12</th>\n",
       "      <td>2020.12.23</td>\n",
       "      <td>171000.0</td>\n",
       "      <td>1500.0</td>\n",
       "      <td>173000.0</td>\n",
       "      <td>173500.0</td>\n",
       "      <td>170000.0</td>\n",
       "      <td>131118.0</td>\n",
       "    </tr>\n",
       "    <tr>\n",
       "      <th>13</th>\n",
       "      <td>2020.12.22</td>\n",
       "      <td>172500.0</td>\n",
       "      <td>4500.0</td>\n",
       "      <td>175000.0</td>\n",
       "      <td>175500.0</td>\n",
       "      <td>172500.0</td>\n",
       "      <td>173246.0</td>\n",
       "    </tr>\n",
       "  </tbody>\n",
       "</table>\n",
       "</div>"
      ],
      "text/plain": [
       "            날짜        종가      전일비        시가        고가        저가        거래량\n",
       "1   2021.01.07  158500.0   1000.0  160000.0  160500.0  157500.0   338618.0\n",
       "2   2021.01.06  159500.0   1000.0  161500.0  162500.0  158000.0   626403.0\n",
       "3   2021.01.05  160500.0   6000.0  155000.0  162500.0  152500.0  1377082.0\n",
       "4   2021.01.04  154500.0  14500.0  149500.0  157000.0  149000.0  3338448.0\n",
       "5   2020.12.30  169000.0   1000.0  168000.0  169500.0  167000.0   221674.0\n",
       "9   2020.12.29  168000.0    500.0  168500.0  171500.0  167000.0   166056.0\n",
       "10  2020.12.28  167500.0   3500.0  172000.0  172000.0  167000.0   214254.0\n",
       "11  2020.12.24  171000.0      0.0  171000.0  171500.0  168500.0   133848.0\n",
       "12  2020.12.23  171000.0   1500.0  173000.0  173500.0  170000.0   131118.0\n",
       "13  2020.12.22  172500.0   4500.0  175000.0  175500.0  172500.0   173246.0"
      ]
     },
     "execution_count": 44,
     "metadata": {},
     "output_type": "execute_result"
    }
   ],
   "source": [
    "# dropna를 통해 결측치가 들어있는 row를 제거합니다.\n",
    "temp.dropna()"
   ]
  },
  {
   "cell_type": "markdown",
   "metadata": {
    "id": "CKhsb94wTMkA"
   },
   "source": [
    "## 페이지별 데이터 수집 함수 만들기"
   ]
  },
  {
   "cell_type": "code",
   "execution_count": 61,
   "metadata": {
    "id": "gJugcyoiTMkA"
   },
   "outputs": [],
   "source": [
    "# 종목 번호를 이용해 page에 따라 데이터를 읽어오는 함수\n",
    "# \"\"\" 는 이 두개 사이의 행들은 주석 처리되며, 함수의 docstring 으로 사용됩니다.\n",
    "\n",
    "def get_day_list(item_code, page_no):\n",
    "    \"\"\"\n",
    "    일자별 시세를 페이지별로 수집\n",
    "    \"\"\"    \n",
    "    url = f\"https://finance.naver.com/item/sise_day.nhn?code={item_code}&page={page_no}\"\n",
    "    table = pd.read_html(url, encoding=\"cp949\")\n",
    "    df_day = table[0].dropna()\n",
    "    return df_day"
   ]
  },
  {
   "cell_type": "code",
   "execution_count": 65,
   "metadata": {
    "id": "evjinapgTMkA"
   },
   "outputs": [
    {
     "data": {
      "text/html": [
       "<div>\n",
       "<style scoped>\n",
       "    .dataframe tbody tr th:only-of-type {\n",
       "        vertical-align: middle;\n",
       "    }\n",
       "\n",
       "    .dataframe tbody tr th {\n",
       "        vertical-align: top;\n",
       "    }\n",
       "\n",
       "    .dataframe thead th {\n",
       "        text-align: right;\n",
       "    }\n",
       "</style>\n",
       "<table border=\"1\" class=\"dataframe\">\n",
       "  <thead>\n",
       "    <tr style=\"text-align: right;\">\n",
       "      <th></th>\n",
       "      <th>날짜</th>\n",
       "      <th>종가</th>\n",
       "      <th>전일비</th>\n",
       "      <th>시가</th>\n",
       "      <th>고가</th>\n",
       "      <th>저가</th>\n",
       "      <th>거래량</th>\n",
       "    </tr>\n",
       "  </thead>\n",
       "  <tbody>\n",
       "    <tr>\n",
       "      <th>1</th>\n",
       "      <td>2020.12.07</td>\n",
       "      <td>174000.0</td>\n",
       "      <td>2500.0</td>\n",
       "      <td>177500.0</td>\n",
       "      <td>177500.0</td>\n",
       "      <td>171500.0</td>\n",
       "      <td>255183.0</td>\n",
       "    </tr>\n",
       "    <tr>\n",
       "      <th>2</th>\n",
       "      <td>2020.12.04</td>\n",
       "      <td>176500.0</td>\n",
       "      <td>1000.0</td>\n",
       "      <td>175500.0</td>\n",
       "      <td>178000.0</td>\n",
       "      <td>175000.0</td>\n",
       "      <td>235976.0</td>\n",
       "    </tr>\n",
       "    <tr>\n",
       "      <th>3</th>\n",
       "      <td>2020.12.03</td>\n",
       "      <td>175500.0</td>\n",
       "      <td>2000.0</td>\n",
       "      <td>179000.0</td>\n",
       "      <td>179500.0</td>\n",
       "      <td>175000.0</td>\n",
       "      <td>231283.0</td>\n",
       "    </tr>\n",
       "    <tr>\n",
       "      <th>4</th>\n",
       "      <td>2020.12.02</td>\n",
       "      <td>177500.0</td>\n",
       "      <td>0.0</td>\n",
       "      <td>177500.0</td>\n",
       "      <td>180000.0</td>\n",
       "      <td>175000.0</td>\n",
       "      <td>290721.0</td>\n",
       "    </tr>\n",
       "    <tr>\n",
       "      <th>5</th>\n",
       "      <td>2020.12.01</td>\n",
       "      <td>177500.0</td>\n",
       "      <td>10000.0</td>\n",
       "      <td>185000.0</td>\n",
       "      <td>185500.0</td>\n",
       "      <td>177000.0</td>\n",
       "      <td>667685.0</td>\n",
       "    </tr>\n",
       "    <tr>\n",
       "      <th>9</th>\n",
       "      <td>2020.11.30</td>\n",
       "      <td>187500.0</td>\n",
       "      <td>1000.0</td>\n",
       "      <td>192500.0</td>\n",
       "      <td>192500.0</td>\n",
       "      <td>181500.0</td>\n",
       "      <td>2393234.0</td>\n",
       "    </tr>\n",
       "    <tr>\n",
       "      <th>10</th>\n",
       "      <td>2020.11.27</td>\n",
       "      <td>188500.0</td>\n",
       "      <td>9000.0</td>\n",
       "      <td>180000.0</td>\n",
       "      <td>189000.0</td>\n",
       "      <td>178500.0</td>\n",
       "      <td>911681.0</td>\n",
       "    </tr>\n",
       "    <tr>\n",
       "      <th>11</th>\n",
       "      <td>2020.11.26</td>\n",
       "      <td>179500.0</td>\n",
       "      <td>5000.0</td>\n",
       "      <td>175500.0</td>\n",
       "      <td>179500.0</td>\n",
       "      <td>172500.0</td>\n",
       "      <td>440231.0</td>\n",
       "    </tr>\n",
       "    <tr>\n",
       "      <th>12</th>\n",
       "      <td>2020.11.25</td>\n",
       "      <td>174500.0</td>\n",
       "      <td>500.0</td>\n",
       "      <td>174500.0</td>\n",
       "      <td>180000.0</td>\n",
       "      <td>170500.0</td>\n",
       "      <td>746914.0</td>\n",
       "    </tr>\n",
       "    <tr>\n",
       "      <th>13</th>\n",
       "      <td>2020.11.24</td>\n",
       "      <td>174000.0</td>\n",
       "      <td>3500.0</td>\n",
       "      <td>171000.0</td>\n",
       "      <td>174500.0</td>\n",
       "      <td>171000.0</td>\n",
       "      <td>411017.0</td>\n",
       "    </tr>\n",
       "  </tbody>\n",
       "</table>\n",
       "</div>"
      ],
      "text/plain": [
       "            날짜        종가      전일비        시가        고가        저가        거래량\n",
       "1   2020.12.07  174000.0   2500.0  177500.0  177500.0  171500.0   255183.0\n",
       "2   2020.12.04  176500.0   1000.0  175500.0  178000.0  175000.0   235976.0\n",
       "3   2020.12.03  175500.0   2000.0  179000.0  179500.0  175000.0   231283.0\n",
       "4   2020.12.02  177500.0      0.0  177500.0  180000.0  175000.0   290721.0\n",
       "5   2020.12.01  177500.0  10000.0  185000.0  185500.0  177000.0   667685.0\n",
       "9   2020.11.30  187500.0   1000.0  192500.0  192500.0  181500.0  2393234.0\n",
       "10  2020.11.27  188500.0   9000.0  180000.0  189000.0  178500.0   911681.0\n",
       "11  2020.11.26  179500.0   5000.0  175500.0  179500.0  172500.0   440231.0\n",
       "12  2020.11.25  174500.0    500.0  174500.0  180000.0  170500.0   746914.0\n",
       "13  2020.11.24  174000.0   3500.0  171000.0  174500.0  171000.0   411017.0"
      ]
     },
     "execution_count": 65,
     "metadata": {},
     "output_type": "execute_result"
    }
   ],
   "source": [
    "# 함수가 잘 만들어졌는지 확인하기\n",
    "page_no = 3\n",
    "get_day_list(item_code, page_no)"
   ]
  },
  {
   "cell_type": "markdown",
   "metadata": {
    "id": "uuaac8XTTMkA"
   },
   "source": [
    "## 반복문을 통한 전체 일자 데이터 수집하기\n",
    "* (주의) 기간이 긴 데이터를 수집할때는 서버에 부담을 주지 않기 위해 time.sleep()값을 주세요."
   ]
  },
  {
   "cell_type": "code",
   "execution_count": 85,
   "metadata": {
    "id": "EQs1C6C_TMkA"
   },
   "outputs": [],
   "source": [
    "import time\n",
    "# web page 시작번호\n",
    "page_no = 1\n",
    "# 데이터를 저장할 빈 변수 선언\n",
    "item_list = []\n",
    "\n",
    "while True:\n",
    "    df_day = get_day_list(item_code, page_no)\n",
    "    item_list.append(df_day)\n",
    "    \n",
    "    page_no = page_no + 1\n",
    "    time.sleep(0.1)\n",
    "    \n",
    "    if len(df_day) < 10:\n",
    "        break\n",
    "        "
   ]
  },
  {
   "cell_type": "code",
   "execution_count": 86,
   "metadata": {},
   "outputs": [
    {
     "data": {
      "text/plain": [
       "13"
      ]
     },
     "execution_count": 86,
     "metadata": {},
     "output_type": "execute_result"
    }
   ],
   "source": [
    "len(item_list)"
   ]
  },
  {
   "cell_type": "markdown",
   "metadata": {
    "id": "iEFBJv5XTMkA"
   },
   "source": [
    "## 수집한 데이터 하나의 데이터프레임으로 합치기\n",
    "\n",
    "<img src=\"https://pandas.pydata.org/docs/_images/merging_concat_basic.png\">\n",
    "\n",
    "* [Merge, join, concatenate and compare documentation](https://pandas.pydata.org/docs/user_guide/merging.html#merge-join-concatenate-and-compare)"
   ]
  },
  {
   "cell_type": "code",
   "execution_count": 87,
   "metadata": {
    "id": "mUcxeTMFTMkA"
   },
   "outputs": [
    {
     "data": {
      "text/plain": [
       "(128, 7)"
      ]
     },
     "execution_count": 87,
     "metadata": {},
     "output_type": "execute_result"
    }
   ],
   "source": [
    "# DataFrame들이 list의 형태로 저장된 것을 concat을 이용하여 합치면서 하나의 DataFrame으로 만듭니다.\n",
    "df = pd.concat(item_list)\n",
    "df.shape"
   ]
  },
  {
   "cell_type": "markdown",
   "metadata": {},
   "source": [
    "<img src=\"https://pandas.pydata.org/docs/_images/08_concat_row1.svg\">"
   ]
  },
  {
   "cell_type": "code",
   "execution_count": 88,
   "metadata": {
    "id": "Ep3NWfM-TMkA"
   },
   "outputs": [
    {
     "data": {
      "text/html": [
       "<div>\n",
       "<style scoped>\n",
       "    .dataframe tbody tr th:only-of-type {\n",
       "        vertical-align: middle;\n",
       "    }\n",
       "\n",
       "    .dataframe tbody tr th {\n",
       "        vertical-align: top;\n",
       "    }\n",
       "\n",
       "    .dataframe thead th {\n",
       "        text-align: right;\n",
       "    }\n",
       "</style>\n",
       "<table border=\"1\" class=\"dataframe\">\n",
       "  <thead>\n",
       "    <tr style=\"text-align: right;\">\n",
       "      <th></th>\n",
       "      <th>날짜</th>\n",
       "      <th>종가</th>\n",
       "      <th>전일비</th>\n",
       "      <th>시가</th>\n",
       "      <th>고가</th>\n",
       "      <th>저가</th>\n",
       "      <th>거래량</th>\n",
       "    </tr>\n",
       "  </thead>\n",
       "  <tbody>\n",
       "    <tr>\n",
       "      <th>1</th>\n",
       "      <td>2021.01.07</td>\n",
       "      <td>159000.0</td>\n",
       "      <td>500.0</td>\n",
       "      <td>160000.0</td>\n",
       "      <td>160500.0</td>\n",
       "      <td>157500.0</td>\n",
       "      <td>463610.0</td>\n",
       "    </tr>\n",
       "    <tr>\n",
       "      <th>2</th>\n",
       "      <td>2021.01.06</td>\n",
       "      <td>159500.0</td>\n",
       "      <td>1000.0</td>\n",
       "      <td>161500.0</td>\n",
       "      <td>162500.0</td>\n",
       "      <td>158000.0</td>\n",
       "      <td>626403.0</td>\n",
       "    </tr>\n",
       "    <tr>\n",
       "      <th>3</th>\n",
       "      <td>2021.01.05</td>\n",
       "      <td>160500.0</td>\n",
       "      <td>6000.0</td>\n",
       "      <td>155000.0</td>\n",
       "      <td>162500.0</td>\n",
       "      <td>152500.0</td>\n",
       "      <td>1377082.0</td>\n",
       "    </tr>\n",
       "    <tr>\n",
       "      <th>4</th>\n",
       "      <td>2021.01.04</td>\n",
       "      <td>154500.0</td>\n",
       "      <td>14500.0</td>\n",
       "      <td>149500.0</td>\n",
       "      <td>157000.0</td>\n",
       "      <td>149000.0</td>\n",
       "      <td>3338448.0</td>\n",
       "    </tr>\n",
       "    <tr>\n",
       "      <th>5</th>\n",
       "      <td>2020.12.30</td>\n",
       "      <td>169000.0</td>\n",
       "      <td>1000.0</td>\n",
       "      <td>168000.0</td>\n",
       "      <td>169500.0</td>\n",
       "      <td>167000.0</td>\n",
       "      <td>221674.0</td>\n",
       "    </tr>\n",
       "  </tbody>\n",
       "</table>\n",
       "</div>"
      ],
      "text/plain": [
       "           날짜        종가      전일비        시가        고가        저가        거래량\n",
       "1  2021.01.07  159000.0    500.0  160000.0  160500.0  157500.0   463610.0\n",
       "2  2021.01.06  159500.0   1000.0  161500.0  162500.0  158000.0   626403.0\n",
       "3  2021.01.05  160500.0   6000.0  155000.0  162500.0  152500.0  1377082.0\n",
       "4  2021.01.04  154500.0  14500.0  149500.0  157000.0  149000.0  3338448.0\n",
       "5  2020.12.30  169000.0   1000.0  168000.0  169500.0  167000.0   221674.0"
      ]
     },
     "execution_count": 88,
     "metadata": {},
     "output_type": "execute_result"
    }
   ],
   "source": [
    "# head와 tail로 데이터의 일부를 가져와서 봅니다.\n",
    "df.head()"
   ]
  },
  {
   "cell_type": "code",
   "execution_count": 89,
   "metadata": {
    "id": "hHcKUo8iTMkA"
   },
   "outputs": [
    {
     "data": {
      "text/html": [
       "<div>\n",
       "<style scoped>\n",
       "    .dataframe tbody tr th:only-of-type {\n",
       "        vertical-align: middle;\n",
       "    }\n",
       "\n",
       "    .dataframe tbody tr th {\n",
       "        vertical-align: top;\n",
       "    }\n",
       "\n",
       "    .dataframe thead th {\n",
       "        text-align: right;\n",
       "    }\n",
       "</style>\n",
       "<table border=\"1\" class=\"dataframe\">\n",
       "  <thead>\n",
       "    <tr style=\"text-align: right;\">\n",
       "      <th></th>\n",
       "      <th>날짜</th>\n",
       "      <th>종가</th>\n",
       "      <th>전일비</th>\n",
       "      <th>시가</th>\n",
       "      <th>고가</th>\n",
       "      <th>저가</th>\n",
       "      <th>거래량</th>\n",
       "    </tr>\n",
       "  </thead>\n",
       "  <tbody>\n",
       "    <tr>\n",
       "      <th>4</th>\n",
       "      <td>2020.07.08</td>\n",
       "      <td>217000.0</td>\n",
       "      <td>500.0</td>\n",
       "      <td>214500.0</td>\n",
       "      <td>225000.0</td>\n",
       "      <td>198000.0</td>\n",
       "      <td>5990009.0</td>\n",
       "    </tr>\n",
       "    <tr>\n",
       "      <th>5</th>\n",
       "      <td>2020.07.07</td>\n",
       "      <td>216500.0</td>\n",
       "      <td>2000.0</td>\n",
       "      <td>219000.0</td>\n",
       "      <td>269500.0</td>\n",
       "      <td>210000.0</td>\n",
       "      <td>10105187.0</td>\n",
       "    </tr>\n",
       "    <tr>\n",
       "      <th>9</th>\n",
       "      <td>2020.07.06</td>\n",
       "      <td>214500.0</td>\n",
       "      <td>49500.0</td>\n",
       "      <td>214500.0</td>\n",
       "      <td>214500.0</td>\n",
       "      <td>193500.0</td>\n",
       "      <td>7126211.0</td>\n",
       "    </tr>\n",
       "    <tr>\n",
       "      <th>10</th>\n",
       "      <td>2020.07.03</td>\n",
       "      <td>165000.0</td>\n",
       "      <td>38000.0</td>\n",
       "      <td>165000.0</td>\n",
       "      <td>165000.0</td>\n",
       "      <td>165000.0</td>\n",
       "      <td>711921.0</td>\n",
       "    </tr>\n",
       "    <tr>\n",
       "      <th>11</th>\n",
       "      <td>2020.07.02</td>\n",
       "      <td>127000.0</td>\n",
       "      <td>29000.0</td>\n",
       "      <td>98000.0</td>\n",
       "      <td>127000.0</td>\n",
       "      <td>98000.0</td>\n",
       "      <td>698642.0</td>\n",
       "    </tr>\n",
       "  </tbody>\n",
       "</table>\n",
       "</div>"
      ],
      "text/plain": [
       "            날짜        종가      전일비        시가        고가        저가         거래량\n",
       "4   2020.07.08  217000.0    500.0  214500.0  225000.0  198000.0   5990009.0\n",
       "5   2020.07.07  216500.0   2000.0  219000.0  269500.0  210000.0  10105187.0\n",
       "9   2020.07.06  214500.0  49500.0  214500.0  214500.0  193500.0   7126211.0\n",
       "10  2020.07.03  165000.0  38000.0  165000.0  165000.0  165000.0    711921.0\n",
       "11  2020.07.02  127000.0  29000.0   98000.0  127000.0   98000.0    698642.0"
      ]
     },
     "execution_count": 89,
     "metadata": {},
     "output_type": "execute_result"
    }
   ],
   "source": [
    "df.tail()"
   ]
  },
  {
   "cell_type": "markdown",
   "metadata": {
    "id": "DdML6w8yTMkA"
   },
   "source": [
    "## 데이터프레임에 종목코드와 종목명을 추가하기\n",
    "* 파생변수 만들기"
   ]
  },
  {
   "cell_type": "code",
   "execution_count": 90,
   "metadata": {
    "id": "-yIDnlZHTMkA"
   },
   "outputs": [],
   "source": [
    "# '종목코드'와 '종목명' column을 추가하면서 각각 item_code와 item_name 값을 입력합니다.\n",
    "df[\"종목코드\"] = item_code\n",
    "df[\"종목명\"] = item_name"
   ]
  },
  {
   "cell_type": "code",
   "execution_count": 91,
   "metadata": {
    "id": "bwDA0C4PTMkA"
   },
   "outputs": [
    {
     "data": {
      "text/html": [
       "<div>\n",
       "<style scoped>\n",
       "    .dataframe tbody tr th:only-of-type {\n",
       "        vertical-align: middle;\n",
       "    }\n",
       "\n",
       "    .dataframe tbody tr th {\n",
       "        vertical-align: top;\n",
       "    }\n",
       "\n",
       "    .dataframe thead th {\n",
       "        text-align: right;\n",
       "    }\n",
       "</style>\n",
       "<table border=\"1\" class=\"dataframe\">\n",
       "  <thead>\n",
       "    <tr style=\"text-align: right;\">\n",
       "      <th></th>\n",
       "      <th>날짜</th>\n",
       "      <th>종가</th>\n",
       "      <th>전일비</th>\n",
       "      <th>시가</th>\n",
       "      <th>고가</th>\n",
       "      <th>저가</th>\n",
       "      <th>거래량</th>\n",
       "      <th>종목코드</th>\n",
       "      <th>종목명</th>\n",
       "    </tr>\n",
       "  </thead>\n",
       "  <tbody>\n",
       "    <tr>\n",
       "      <th>1</th>\n",
       "      <td>2021.01.07</td>\n",
       "      <td>159000.0</td>\n",
       "      <td>500.0</td>\n",
       "      <td>160000.0</td>\n",
       "      <td>160500.0</td>\n",
       "      <td>157500.0</td>\n",
       "      <td>463610.0</td>\n",
       "      <td>326030</td>\n",
       "      <td>SK바이오팜</td>\n",
       "    </tr>\n",
       "    <tr>\n",
       "      <th>2</th>\n",
       "      <td>2021.01.06</td>\n",
       "      <td>159500.0</td>\n",
       "      <td>1000.0</td>\n",
       "      <td>161500.0</td>\n",
       "      <td>162500.0</td>\n",
       "      <td>158000.0</td>\n",
       "      <td>626403.0</td>\n",
       "      <td>326030</td>\n",
       "      <td>SK바이오팜</td>\n",
       "    </tr>\n",
       "    <tr>\n",
       "      <th>3</th>\n",
       "      <td>2021.01.05</td>\n",
       "      <td>160500.0</td>\n",
       "      <td>6000.0</td>\n",
       "      <td>155000.0</td>\n",
       "      <td>162500.0</td>\n",
       "      <td>152500.0</td>\n",
       "      <td>1377082.0</td>\n",
       "      <td>326030</td>\n",
       "      <td>SK바이오팜</td>\n",
       "    </tr>\n",
       "    <tr>\n",
       "      <th>4</th>\n",
       "      <td>2021.01.04</td>\n",
       "      <td>154500.0</td>\n",
       "      <td>14500.0</td>\n",
       "      <td>149500.0</td>\n",
       "      <td>157000.0</td>\n",
       "      <td>149000.0</td>\n",
       "      <td>3338448.0</td>\n",
       "      <td>326030</td>\n",
       "      <td>SK바이오팜</td>\n",
       "    </tr>\n",
       "    <tr>\n",
       "      <th>5</th>\n",
       "      <td>2020.12.30</td>\n",
       "      <td>169000.0</td>\n",
       "      <td>1000.0</td>\n",
       "      <td>168000.0</td>\n",
       "      <td>169500.0</td>\n",
       "      <td>167000.0</td>\n",
       "      <td>221674.0</td>\n",
       "      <td>326030</td>\n",
       "      <td>SK바이오팜</td>\n",
       "    </tr>\n",
       "  </tbody>\n",
       "</table>\n",
       "</div>"
      ],
      "text/plain": [
       "           날짜        종가      전일비        시가        고가        저가        거래량  \\\n",
       "1  2021.01.07  159000.0    500.0  160000.0  160500.0  157500.0   463610.0   \n",
       "2  2021.01.06  159500.0   1000.0  161500.0  162500.0  158000.0   626403.0   \n",
       "3  2021.01.05  160500.0   6000.0  155000.0  162500.0  152500.0  1377082.0   \n",
       "4  2021.01.04  154500.0  14500.0  149500.0  157000.0  149000.0  3338448.0   \n",
       "5  2020.12.30  169000.0   1000.0  168000.0  169500.0  167000.0   221674.0   \n",
       "\n",
       "     종목코드     종목명  \n",
       "1  326030  SK바이오팜  \n",
       "2  326030  SK바이오팜  \n",
       "3  326030  SK바이오팜  \n",
       "4  326030  SK바이오팜  \n",
       "5  326030  SK바이오팜  "
      ]
     },
     "execution_count": 91,
     "metadata": {},
     "output_type": "execute_result"
    }
   ],
   "source": [
    "df.head()"
   ]
  },
  {
   "cell_type": "markdown",
   "metadata": {
    "id": "3RlnKPE1TMkA"
   },
   "source": [
    "## 컬럼 순서 변경하기"
   ]
  },
  {
   "cell_type": "code",
   "execution_count": 95,
   "metadata": {
    "id": "JblNSbuRTMkA"
   },
   "outputs": [
    {
     "data": {
      "text/plain": [
       "Index(['날짜', '종가', '전일비', '시가', '고가', '저가', '거래량', '종목코드', '종목명'], dtype='object')"
      ]
     },
     "execution_count": 95,
     "metadata": {},
     "output_type": "execute_result"
    }
   ],
   "source": [
    "# DataFrame에서 column 들의 이름을 순서를 조정하여 column순서를 변경할 수 있습니다.\n",
    "df.columns"
   ]
  },
  {
   "cell_type": "code",
   "execution_count": 98,
   "metadata": {},
   "outputs": [
    {
     "data": {
      "text/html": [
       "<div>\n",
       "<style scoped>\n",
       "    .dataframe tbody tr th:only-of-type {\n",
       "        vertical-align: middle;\n",
       "    }\n",
       "\n",
       "    .dataframe tbody tr th {\n",
       "        vertical-align: top;\n",
       "    }\n",
       "\n",
       "    .dataframe thead th {\n",
       "        text-align: right;\n",
       "    }\n",
       "</style>\n",
       "<table border=\"1\" class=\"dataframe\">\n",
       "  <thead>\n",
       "    <tr style=\"text-align: right;\">\n",
       "      <th></th>\n",
       "      <th>종목코드</th>\n",
       "      <th>종목명</th>\n",
       "      <th>날짜</th>\n",
       "      <th>종가</th>\n",
       "      <th>전일비</th>\n",
       "      <th>시가</th>\n",
       "      <th>고가</th>\n",
       "      <th>저가</th>\n",
       "      <th>거래량</th>\n",
       "    </tr>\n",
       "  </thead>\n",
       "  <tbody>\n",
       "    <tr>\n",
       "      <th>1</th>\n",
       "      <td>326030</td>\n",
       "      <td>SK바이오팜</td>\n",
       "      <td>2021.01.07</td>\n",
       "      <td>159000.0</td>\n",
       "      <td>500.0</td>\n",
       "      <td>160000.0</td>\n",
       "      <td>160500.0</td>\n",
       "      <td>157500.0</td>\n",
       "      <td>463610.0</td>\n",
       "    </tr>\n",
       "    <tr>\n",
       "      <th>2</th>\n",
       "      <td>326030</td>\n",
       "      <td>SK바이오팜</td>\n",
       "      <td>2021.01.06</td>\n",
       "      <td>159500.0</td>\n",
       "      <td>1000.0</td>\n",
       "      <td>161500.0</td>\n",
       "      <td>162500.0</td>\n",
       "      <td>158000.0</td>\n",
       "      <td>626403.0</td>\n",
       "    </tr>\n",
       "    <tr>\n",
       "      <th>3</th>\n",
       "      <td>326030</td>\n",
       "      <td>SK바이오팜</td>\n",
       "      <td>2021.01.05</td>\n",
       "      <td>160500.0</td>\n",
       "      <td>6000.0</td>\n",
       "      <td>155000.0</td>\n",
       "      <td>162500.0</td>\n",
       "      <td>152500.0</td>\n",
       "      <td>1377082.0</td>\n",
       "    </tr>\n",
       "    <tr>\n",
       "      <th>4</th>\n",
       "      <td>326030</td>\n",
       "      <td>SK바이오팜</td>\n",
       "      <td>2021.01.04</td>\n",
       "      <td>154500.0</td>\n",
       "      <td>14500.0</td>\n",
       "      <td>149500.0</td>\n",
       "      <td>157000.0</td>\n",
       "      <td>149000.0</td>\n",
       "      <td>3338448.0</td>\n",
       "    </tr>\n",
       "    <tr>\n",
       "      <th>5</th>\n",
       "      <td>326030</td>\n",
       "      <td>SK바이오팜</td>\n",
       "      <td>2020.12.30</td>\n",
       "      <td>169000.0</td>\n",
       "      <td>1000.0</td>\n",
       "      <td>168000.0</td>\n",
       "      <td>169500.0</td>\n",
       "      <td>167000.0</td>\n",
       "      <td>221674.0</td>\n",
       "    </tr>\n",
       "  </tbody>\n",
       "</table>\n",
       "</div>"
      ],
      "text/plain": [
       "     종목코드     종목명          날짜        종가      전일비        시가        고가  \\\n",
       "1  326030  SK바이오팜  2021.01.07  159000.0    500.0  160000.0  160500.0   \n",
       "2  326030  SK바이오팜  2021.01.06  159500.0   1000.0  161500.0  162500.0   \n",
       "3  326030  SK바이오팜  2021.01.05  160500.0   6000.0  155000.0  162500.0   \n",
       "4  326030  SK바이오팜  2021.01.04  154500.0  14500.0  149500.0  157000.0   \n",
       "5  326030  SK바이오팜  2020.12.30  169000.0   1000.0  168000.0  169500.0   \n",
       "\n",
       "         저가        거래량  \n",
       "1  157500.0   463610.0  \n",
       "2  158000.0   626403.0  \n",
       "3  152500.0  1377082.0  \n",
       "4  149000.0  3338448.0  \n",
       "5  167000.0   221674.0  "
      ]
     },
     "execution_count": 98,
     "metadata": {},
     "output_type": "execute_result"
    }
   ],
   "source": [
    "cols = ['종목코드', '종목명', '날짜', '종가', '전일비', '시가', '고가', '저가', '거래량']\n",
    "df = df[cols].copy()\n",
    "df.head()"
   ]
  },
  {
   "cell_type": "markdown",
   "metadata": {
    "id": "_-SXjeiSTMkA"
   },
   "source": [
    "## 중복데이터 제거하기\n",
    "* drop_duplicates 를 통해 중복된 데이터가 있다면 제거합니다."
   ]
  },
  {
   "cell_type": "code",
   "execution_count": 100,
   "metadata": {
    "id": "F0VZGMNRTMkA"
   },
   "outputs": [
    {
     "name": "stdout",
     "output_type": "stream",
     "text": [
      "(128, 9)\n"
     ]
    },
    {
     "data": {
      "text/plain": [
       "(128, 9)"
      ]
     },
     "execution_count": 100,
     "metadata": {},
     "output_type": "execute_result"
    }
   ],
   "source": [
    "# drop_duplicates : row들 끼리 data를 비교하여 같은 값이 있으면 row중 하나를 삭제\n",
    "# df.shape를 전/후로 출력하여 삭제된 row가 있는지 확인\n",
    "print(df.shape)\n",
    "df = df.drop_duplicates()\n",
    "df.shape"
   ]
  },
  {
   "cell_type": "markdown",
   "metadata": {
    "id": "viEbEi4iTMkB"
   },
   "source": [
    "## 기술통계값 구하기"
   ]
  },
  {
   "cell_type": "code",
   "execution_count": 101,
   "metadata": {
    "id": "Q-gV-QPPTMkB"
   },
   "outputs": [
    {
     "data": {
      "text/html": [
       "<div>\n",
       "<style scoped>\n",
       "    .dataframe tbody tr th:only-of-type {\n",
       "        vertical-align: middle;\n",
       "    }\n",
       "\n",
       "    .dataframe tbody tr th {\n",
       "        vertical-align: top;\n",
       "    }\n",
       "\n",
       "    .dataframe thead th {\n",
       "        text-align: right;\n",
       "    }\n",
       "</style>\n",
       "<table border=\"1\" class=\"dataframe\">\n",
       "  <thead>\n",
       "    <tr style=\"text-align: right;\">\n",
       "      <th></th>\n",
       "      <th>종가</th>\n",
       "      <th>전일비</th>\n",
       "      <th>시가</th>\n",
       "      <th>고가</th>\n",
       "      <th>저가</th>\n",
       "      <th>거래량</th>\n",
       "    </tr>\n",
       "  </thead>\n",
       "  <tbody>\n",
       "    <tr>\n",
       "      <th>count</th>\n",
       "      <td>128.000000</td>\n",
       "      <td>128.000000</td>\n",
       "      <td>128.000000</td>\n",
       "      <td>128.000000</td>\n",
       "      <td>128.000000</td>\n",
       "      <td>1.280000e+02</td>\n",
       "    </tr>\n",
       "    <tr>\n",
       "      <th>mean</th>\n",
       "      <td>172421.875000</td>\n",
       "      <td>4187.500000</td>\n",
       "      <td>172855.468750</td>\n",
       "      <td>176382.812500</td>\n",
       "      <td>169082.031250</td>\n",
       "      <td>7.204119e+05</td>\n",
       "    </tr>\n",
       "    <tr>\n",
       "      <th>std</th>\n",
       "      <td>14962.346112</td>\n",
       "      <td>6428.590176</td>\n",
       "      <td>16451.090999</td>\n",
       "      <td>17927.949013</td>\n",
       "      <td>14960.417241</td>\n",
       "      <td>1.264844e+06</td>\n",
       "    </tr>\n",
       "    <tr>\n",
       "      <th>min</th>\n",
       "      <td>127000.000000</td>\n",
       "      <td>0.000000</td>\n",
       "      <td>98000.000000</td>\n",
       "      <td>127000.000000</td>\n",
       "      <td>98000.000000</td>\n",
       "      <td>1.074820e+05</td>\n",
       "    </tr>\n",
       "    <tr>\n",
       "      <th>25%</th>\n",
       "      <td>163250.000000</td>\n",
       "      <td>1000.000000</td>\n",
       "      <td>164250.000000</td>\n",
       "      <td>168125.000000</td>\n",
       "      <td>159500.000000</td>\n",
       "      <td>2.098640e+05</td>\n",
       "    </tr>\n",
       "    <tr>\n",
       "      <th>50%</th>\n",
       "      <td>171000.000000</td>\n",
       "      <td>2500.000000</td>\n",
       "      <td>171250.000000</td>\n",
       "      <td>173250.000000</td>\n",
       "      <td>169000.000000</td>\n",
       "      <td>3.460490e+05</td>\n",
       "    </tr>\n",
       "    <tr>\n",
       "      <th>75%</th>\n",
       "      <td>181500.000000</td>\n",
       "      <td>4625.000000</td>\n",
       "      <td>181000.000000</td>\n",
       "      <td>185125.000000</td>\n",
       "      <td>177625.000000</td>\n",
       "      <td>6.728170e+05</td>\n",
       "    </tr>\n",
       "    <tr>\n",
       "      <th>max</th>\n",
       "      <td>217000.000000</td>\n",
       "      <td>49500.000000</td>\n",
       "      <td>219000.000000</td>\n",
       "      <td>269500.000000</td>\n",
       "      <td>210000.000000</td>\n",
       "      <td>1.010519e+07</td>\n",
       "    </tr>\n",
       "  </tbody>\n",
       "</table>\n",
       "</div>"
      ],
      "text/plain": [
       "                  종가           전일비             시가             고가  \\\n",
       "count     128.000000    128.000000     128.000000     128.000000   \n",
       "mean   172421.875000   4187.500000  172855.468750  176382.812500   \n",
       "std     14962.346112   6428.590176   16451.090999   17927.949013   \n",
       "min    127000.000000      0.000000   98000.000000  127000.000000   \n",
       "25%    163250.000000   1000.000000  164250.000000  168125.000000   \n",
       "50%    171000.000000   2500.000000  171250.000000  173250.000000   \n",
       "75%    181500.000000   4625.000000  181000.000000  185125.000000   \n",
       "max    217000.000000  49500.000000  219000.000000  269500.000000   \n",
       "\n",
       "                  저가           거래량  \n",
       "count     128.000000  1.280000e+02  \n",
       "mean   169082.031250  7.204119e+05  \n",
       "std     14960.417241  1.264844e+06  \n",
       "min     98000.000000  1.074820e+05  \n",
       "25%    159500.000000  2.098640e+05  \n",
       "50%    169000.000000  3.460490e+05  \n",
       "75%    177625.000000  6.728170e+05  \n",
       "max    210000.000000  1.010519e+07  "
      ]
     },
     "execution_count": 101,
     "metadata": {},
     "output_type": "execute_result"
    }
   ],
   "source": [
    "# describe는 기본적으로 수치데이터에 대한 기술통계값을 구하게 됩니다.\n",
    "df.describe()"
   ]
  },
  {
   "cell_type": "markdown",
   "metadata": {},
   "source": [
    "* 참고 : E notation\n",
    "[과학적 기수법 - 위키백과, 우리 모두의 백과사전](https://ko.wikipedia.org/wiki/%EA%B3%BC%ED%95%99%EC%A0%81_%EA%B8%B0%EC%88%98%EB%B2%95)\n",
    "\n",
    "과학적 기수법, 과학적 표기법(scientific notation, scientific form, standard index form, standard form)은 너무 크거나 너무 작은 숫자들을 십진법으로 편하게 작성하여 표현하는 방법이다. 과학자, 수학자, 공학자들이 공통적으로 사용하는데, 부분적인 이유는 특정한 산술을 단순화시켜 주기 때문이다. 과학 계산기에서는 \"SCI\" 디스플레이 모드라는 이름으로 알려져 있다."
   ]
  },
  {
   "cell_type": "code",
   "execution_count": 105,
   "metadata": {},
   "outputs": [
    {
     "data": {
      "text/plain": [
       "128.0"
      ]
     },
     "execution_count": 105,
     "metadata": {},
     "output_type": "execute_result"
    }
   ],
   "source": [
    "1.28 * (10 ** 2)"
   ]
  },
  {
   "cell_type": "code",
   "execution_count": 104,
   "metadata": {},
   "outputs": [
    {
     "data": {
      "text/plain": [
       "128.0"
      ]
     },
     "execution_count": 104,
     "metadata": {},
     "output_type": "execute_result"
    }
   ],
   "source": [
    "1.280000e+02"
   ]
  },
  {
   "cell_type": "code",
   "execution_count": 106,
   "metadata": {},
   "outputs": [
    {
     "data": {
      "text/plain": [
       "10105190.0"
      ]
     },
     "execution_count": 106,
     "metadata": {},
     "output_type": "execute_result"
    }
   ],
   "source": [
    "1.010519e+07"
   ]
  },
  {
   "cell_type": "code",
   "execution_count": 103,
   "metadata": {},
   "outputs": [
    {
     "data": {
      "text/plain": [
       "count    1.280000e+02\n",
       "mean     7.204119e+05\n",
       "std      1.264844e+06\n",
       "min      1.074820e+05\n",
       "25%      2.098640e+05\n",
       "50%      3.460490e+05\n",
       "75%      6.728170e+05\n",
       "max      1.010519e+07\n",
       "Name: 거래량, dtype: float64"
      ]
     },
     "execution_count": 103,
     "metadata": {},
     "output_type": "execute_result"
    }
   ],
   "source": [
    "# 거래량의 과학적 기수법 읽기\n",
    "df[\"거래량\"].describe()"
   ]
  },
  {
   "cell_type": "markdown",
   "metadata": {
    "id": "Ql0phnyuTMkB"
   },
   "source": [
    "## 최근 날짜 구해서 파일명 만들기"
   ]
  },
  {
   "cell_type": "code",
   "execution_count": 109,
   "metadata": {
    "id": "_dyLUpVVTMkB"
   },
   "outputs": [
    {
     "data": {
      "text/plain": [
       "'2021.01.07'"
      ]
     },
     "execution_count": 109,
     "metadata": {},
     "output_type": "execute_result"
    }
   ],
   "source": [
    "# 날짜 column의 첫 row값 확인\n",
    "date = df.iloc[0][\"날짜\"]\n",
    "date"
   ]
  },
  {
   "cell_type": "code",
   "execution_count": 113,
   "metadata": {
    "id": "teInPugvTMkB"
   },
   "outputs": [
    {
     "data": {
      "text/plain": [
       "'SK바이오팜_326030_2021.01.07.csv'"
      ]
     },
     "execution_count": 113,
     "metadata": {},
     "output_type": "execute_result"
    }
   ],
   "source": [
    "# 종목명, 종목코드, 날짜를 이름으로 하는 csv 파일명 만들기\n",
    "file_name = f\"{item_name}_{item_code}_{date}.csv\"\n",
    "file_name"
   ]
  },
  {
   "cell_type": "markdown",
   "metadata": {
    "id": "1LXe-dutTMkB"
   },
   "source": [
    "## 파일로 저장하기"
   ]
  },
  {
   "cell_type": "code",
   "execution_count": 117,
   "metadata": {
    "id": "dBRXOwIxTMkB"
   },
   "outputs": [],
   "source": [
    "# 파일로 저장하기 \n",
    "# index=False 로 데이터프레임의 기본 index 는 저장하지 않도록 합니다.\n",
    "df.to_csv(file_name, index=False)"
   ]
  },
  {
   "cell_type": "code",
   "execution_count": 118,
   "metadata": {
    "id": "EEfm9Yk9TMkB"
   },
   "outputs": [
    {
     "data": {
      "text/html": [
       "<div>\n",
       "<style scoped>\n",
       "    .dataframe tbody tr th:only-of-type {\n",
       "        vertical-align: middle;\n",
       "    }\n",
       "\n",
       "    .dataframe tbody tr th {\n",
       "        vertical-align: top;\n",
       "    }\n",
       "\n",
       "    .dataframe thead th {\n",
       "        text-align: right;\n",
       "    }\n",
       "</style>\n",
       "<table border=\"1\" class=\"dataframe\">\n",
       "  <thead>\n",
       "    <tr style=\"text-align: right;\">\n",
       "      <th></th>\n",
       "      <th>종목코드</th>\n",
       "      <th>종목명</th>\n",
       "      <th>날짜</th>\n",
       "      <th>종가</th>\n",
       "      <th>전일비</th>\n",
       "      <th>시가</th>\n",
       "      <th>고가</th>\n",
       "      <th>저가</th>\n",
       "      <th>거래량</th>\n",
       "    </tr>\n",
       "  </thead>\n",
       "  <tbody>\n",
       "    <tr>\n",
       "      <th>0</th>\n",
       "      <td>326030</td>\n",
       "      <td>SK바이오팜</td>\n",
       "      <td>2021.01.07</td>\n",
       "      <td>159000.0</td>\n",
       "      <td>500.0</td>\n",
       "      <td>160000.0</td>\n",
       "      <td>160500.0</td>\n",
       "      <td>157500.0</td>\n",
       "      <td>463610.0</td>\n",
       "    </tr>\n",
       "    <tr>\n",
       "      <th>1</th>\n",
       "      <td>326030</td>\n",
       "      <td>SK바이오팜</td>\n",
       "      <td>2021.01.06</td>\n",
       "      <td>159500.0</td>\n",
       "      <td>1000.0</td>\n",
       "      <td>161500.0</td>\n",
       "      <td>162500.0</td>\n",
       "      <td>158000.0</td>\n",
       "      <td>626403.0</td>\n",
       "    </tr>\n",
       "    <tr>\n",
       "      <th>2</th>\n",
       "      <td>326030</td>\n",
       "      <td>SK바이오팜</td>\n",
       "      <td>2021.01.05</td>\n",
       "      <td>160500.0</td>\n",
       "      <td>6000.0</td>\n",
       "      <td>155000.0</td>\n",
       "      <td>162500.0</td>\n",
       "      <td>152500.0</td>\n",
       "      <td>1377082.0</td>\n",
       "    </tr>\n",
       "    <tr>\n",
       "      <th>3</th>\n",
       "      <td>326030</td>\n",
       "      <td>SK바이오팜</td>\n",
       "      <td>2021.01.04</td>\n",
       "      <td>154500.0</td>\n",
       "      <td>14500.0</td>\n",
       "      <td>149500.0</td>\n",
       "      <td>157000.0</td>\n",
       "      <td>149000.0</td>\n",
       "      <td>3338448.0</td>\n",
       "    </tr>\n",
       "    <tr>\n",
       "      <th>4</th>\n",
       "      <td>326030</td>\n",
       "      <td>SK바이오팜</td>\n",
       "      <td>2020.12.30</td>\n",
       "      <td>169000.0</td>\n",
       "      <td>1000.0</td>\n",
       "      <td>168000.0</td>\n",
       "      <td>169500.0</td>\n",
       "      <td>167000.0</td>\n",
       "      <td>221674.0</td>\n",
       "    </tr>\n",
       "    <tr>\n",
       "      <th>...</th>\n",
       "      <td>...</td>\n",
       "      <td>...</td>\n",
       "      <td>...</td>\n",
       "      <td>...</td>\n",
       "      <td>...</td>\n",
       "      <td>...</td>\n",
       "      <td>...</td>\n",
       "      <td>...</td>\n",
       "      <td>...</td>\n",
       "    </tr>\n",
       "    <tr>\n",
       "      <th>123</th>\n",
       "      <td>326030</td>\n",
       "      <td>SK바이오팜</td>\n",
       "      <td>2020.07.08</td>\n",
       "      <td>217000.0</td>\n",
       "      <td>500.0</td>\n",
       "      <td>214500.0</td>\n",
       "      <td>225000.0</td>\n",
       "      <td>198000.0</td>\n",
       "      <td>5990009.0</td>\n",
       "    </tr>\n",
       "    <tr>\n",
       "      <th>124</th>\n",
       "      <td>326030</td>\n",
       "      <td>SK바이오팜</td>\n",
       "      <td>2020.07.07</td>\n",
       "      <td>216500.0</td>\n",
       "      <td>2000.0</td>\n",
       "      <td>219000.0</td>\n",
       "      <td>269500.0</td>\n",
       "      <td>210000.0</td>\n",
       "      <td>10105187.0</td>\n",
       "    </tr>\n",
       "    <tr>\n",
       "      <th>125</th>\n",
       "      <td>326030</td>\n",
       "      <td>SK바이오팜</td>\n",
       "      <td>2020.07.06</td>\n",
       "      <td>214500.0</td>\n",
       "      <td>49500.0</td>\n",
       "      <td>214500.0</td>\n",
       "      <td>214500.0</td>\n",
       "      <td>193500.0</td>\n",
       "      <td>7126211.0</td>\n",
       "    </tr>\n",
       "    <tr>\n",
       "      <th>126</th>\n",
       "      <td>326030</td>\n",
       "      <td>SK바이오팜</td>\n",
       "      <td>2020.07.03</td>\n",
       "      <td>165000.0</td>\n",
       "      <td>38000.0</td>\n",
       "      <td>165000.0</td>\n",
       "      <td>165000.0</td>\n",
       "      <td>165000.0</td>\n",
       "      <td>711921.0</td>\n",
       "    </tr>\n",
       "    <tr>\n",
       "      <th>127</th>\n",
       "      <td>326030</td>\n",
       "      <td>SK바이오팜</td>\n",
       "      <td>2020.07.02</td>\n",
       "      <td>127000.0</td>\n",
       "      <td>29000.0</td>\n",
       "      <td>98000.0</td>\n",
       "      <td>127000.0</td>\n",
       "      <td>98000.0</td>\n",
       "      <td>698642.0</td>\n",
       "    </tr>\n",
       "  </tbody>\n",
       "</table>\n",
       "<p>128 rows × 9 columns</p>\n",
       "</div>"
      ],
      "text/plain": [
       "       종목코드     종목명          날짜        종가      전일비        시가        고가  \\\n",
       "0    326030  SK바이오팜  2021.01.07  159000.0    500.0  160000.0  160500.0   \n",
       "1    326030  SK바이오팜  2021.01.06  159500.0   1000.0  161500.0  162500.0   \n",
       "2    326030  SK바이오팜  2021.01.05  160500.0   6000.0  155000.0  162500.0   \n",
       "3    326030  SK바이오팜  2021.01.04  154500.0  14500.0  149500.0  157000.0   \n",
       "4    326030  SK바이오팜  2020.12.30  169000.0   1000.0  168000.0  169500.0   \n",
       "..      ...     ...         ...       ...      ...       ...       ...   \n",
       "123  326030  SK바이오팜  2020.07.08  217000.0    500.0  214500.0  225000.0   \n",
       "124  326030  SK바이오팜  2020.07.07  216500.0   2000.0  219000.0  269500.0   \n",
       "125  326030  SK바이오팜  2020.07.06  214500.0  49500.0  214500.0  214500.0   \n",
       "126  326030  SK바이오팜  2020.07.03  165000.0  38000.0  165000.0  165000.0   \n",
       "127  326030  SK바이오팜  2020.07.02  127000.0  29000.0   98000.0  127000.0   \n",
       "\n",
       "           저가         거래량  \n",
       "0    157500.0    463610.0  \n",
       "1    158000.0    626403.0  \n",
       "2    152500.0   1377082.0  \n",
       "3    149000.0   3338448.0  \n",
       "4    167000.0    221674.0  \n",
       "..        ...         ...  \n",
       "123  198000.0   5990009.0  \n",
       "124  210000.0  10105187.0  \n",
       "125  193500.0   7126211.0  \n",
       "126  165000.0    711921.0  \n",
       "127   98000.0    698642.0  \n",
       "\n",
       "[128 rows x 9 columns]"
      ]
     },
     "execution_count": 118,
     "metadata": {},
     "output_type": "execute_result"
    }
   ],
   "source": [
    "# 제대로 저장되었는지 파일을 읽어서 확인합니다\n",
    "pd.read_csv(file_name)"
   ]
  },
  {
   "cell_type": "markdown",
   "metadata": {},
   "source": [
    "## 전체 과정을 하나의 함수로 만들기"
   ]
  },
  {
   "cell_type": "code",
   "execution_count": 127,
   "metadata": {},
   "outputs": [],
   "source": [
    "def get_item_list(item_code, item_name):\n",
    "    \"\"\"\n",
    "    일별 시세를 수집하는 함수\n",
    "    \"\"\"\n",
    "\n",
    "    # web page 시작번호\n",
    "    page_no = 1\n",
    "    # 데이터를 저장할 빈 변수 선언\n",
    "    item_list = []\n",
    "\n",
    "    while True:\n",
    "        df_day = get_day_list(item_code, page_no)\n",
    "        item_list.append(df_day)\n",
    "\n",
    "        page_no = page_no + 1\n",
    "        time.sleep(0.1)\n",
    "\n",
    "        if len(df_day) < 10:\n",
    "            break\n",
    "            \n",
    "    df = pd.concat(item_list)\n",
    "\n",
    "    df[\"종목코드\"] = item_code\n",
    "    df[\"종목명\"] = item_name\n",
    "    cols = ['종목코드', '종목명', '날짜', '종가', '전일비', '시가', '고가', '저가', '거래량']\n",
    "    df = df[cols].copy()\n",
    "    df = df.drop_duplicates()\n",
    "    \n",
    "    return df"
   ]
  },
  {
   "cell_type": "code",
   "execution_count": 125,
   "metadata": {},
   "outputs": [
    {
     "data": {
      "text/html": [
       "<div>\n",
       "<style scoped>\n",
       "    .dataframe tbody tr th:only-of-type {\n",
       "        vertical-align: middle;\n",
       "    }\n",
       "\n",
       "    .dataframe tbody tr th {\n",
       "        vertical-align: top;\n",
       "    }\n",
       "\n",
       "    .dataframe thead th {\n",
       "        text-align: right;\n",
       "    }\n",
       "</style>\n",
       "<table border=\"1\" class=\"dataframe\">\n",
       "  <thead>\n",
       "    <tr style=\"text-align: right;\">\n",
       "      <th></th>\n",
       "      <th>종목코드</th>\n",
       "      <th>종목명</th>\n",
       "      <th>날짜</th>\n",
       "      <th>종가</th>\n",
       "      <th>전일비</th>\n",
       "      <th>시가</th>\n",
       "      <th>고가</th>\n",
       "      <th>저가</th>\n",
       "      <th>거래량</th>\n",
       "    </tr>\n",
       "  </thead>\n",
       "  <tbody>\n",
       "    <tr>\n",
       "      <th>1</th>\n",
       "      <td>326030</td>\n",
       "      <td>SK바이오팜</td>\n",
       "      <td>2021.01.07</td>\n",
       "      <td>158500.0</td>\n",
       "      <td>1000.0</td>\n",
       "      <td>160000.0</td>\n",
       "      <td>160500.0</td>\n",
       "      <td>157500.0</td>\n",
       "      <td>480831.0</td>\n",
       "    </tr>\n",
       "    <tr>\n",
       "      <th>2</th>\n",
       "      <td>326030</td>\n",
       "      <td>SK바이오팜</td>\n",
       "      <td>2021.01.06</td>\n",
       "      <td>159500.0</td>\n",
       "      <td>1000.0</td>\n",
       "      <td>161500.0</td>\n",
       "      <td>162500.0</td>\n",
       "      <td>158000.0</td>\n",
       "      <td>626403.0</td>\n",
       "    </tr>\n",
       "    <tr>\n",
       "      <th>3</th>\n",
       "      <td>326030</td>\n",
       "      <td>SK바이오팜</td>\n",
       "      <td>2021.01.05</td>\n",
       "      <td>160500.0</td>\n",
       "      <td>6000.0</td>\n",
       "      <td>155000.0</td>\n",
       "      <td>162500.0</td>\n",
       "      <td>152500.0</td>\n",
       "      <td>1377082.0</td>\n",
       "    </tr>\n",
       "    <tr>\n",
       "      <th>4</th>\n",
       "      <td>326030</td>\n",
       "      <td>SK바이오팜</td>\n",
       "      <td>2021.01.04</td>\n",
       "      <td>154500.0</td>\n",
       "      <td>14500.0</td>\n",
       "      <td>149500.0</td>\n",
       "      <td>157000.0</td>\n",
       "      <td>149000.0</td>\n",
       "      <td>3338448.0</td>\n",
       "    </tr>\n",
       "    <tr>\n",
       "      <th>5</th>\n",
       "      <td>326030</td>\n",
       "      <td>SK바이오팜</td>\n",
       "      <td>2020.12.30</td>\n",
       "      <td>169000.0</td>\n",
       "      <td>1000.0</td>\n",
       "      <td>168000.0</td>\n",
       "      <td>169500.0</td>\n",
       "      <td>167000.0</td>\n",
       "      <td>221674.0</td>\n",
       "    </tr>\n",
       "    <tr>\n",
       "      <th>...</th>\n",
       "      <td>...</td>\n",
       "      <td>...</td>\n",
       "      <td>...</td>\n",
       "      <td>...</td>\n",
       "      <td>...</td>\n",
       "      <td>...</td>\n",
       "      <td>...</td>\n",
       "      <td>...</td>\n",
       "      <td>...</td>\n",
       "    </tr>\n",
       "    <tr>\n",
       "      <th>4</th>\n",
       "      <td>326030</td>\n",
       "      <td>SK바이오팜</td>\n",
       "      <td>2020.07.08</td>\n",
       "      <td>217000.0</td>\n",
       "      <td>500.0</td>\n",
       "      <td>214500.0</td>\n",
       "      <td>225000.0</td>\n",
       "      <td>198000.0</td>\n",
       "      <td>5990009.0</td>\n",
       "    </tr>\n",
       "    <tr>\n",
       "      <th>5</th>\n",
       "      <td>326030</td>\n",
       "      <td>SK바이오팜</td>\n",
       "      <td>2020.07.07</td>\n",
       "      <td>216500.0</td>\n",
       "      <td>2000.0</td>\n",
       "      <td>219000.0</td>\n",
       "      <td>269500.0</td>\n",
       "      <td>210000.0</td>\n",
       "      <td>10105187.0</td>\n",
       "    </tr>\n",
       "    <tr>\n",
       "      <th>9</th>\n",
       "      <td>326030</td>\n",
       "      <td>SK바이오팜</td>\n",
       "      <td>2020.07.06</td>\n",
       "      <td>214500.0</td>\n",
       "      <td>49500.0</td>\n",
       "      <td>214500.0</td>\n",
       "      <td>214500.0</td>\n",
       "      <td>193500.0</td>\n",
       "      <td>7126211.0</td>\n",
       "    </tr>\n",
       "    <tr>\n",
       "      <th>10</th>\n",
       "      <td>326030</td>\n",
       "      <td>SK바이오팜</td>\n",
       "      <td>2020.07.03</td>\n",
       "      <td>165000.0</td>\n",
       "      <td>38000.0</td>\n",
       "      <td>165000.0</td>\n",
       "      <td>165000.0</td>\n",
       "      <td>165000.0</td>\n",
       "      <td>711921.0</td>\n",
       "    </tr>\n",
       "    <tr>\n",
       "      <th>11</th>\n",
       "      <td>326030</td>\n",
       "      <td>SK바이오팜</td>\n",
       "      <td>2020.07.02</td>\n",
       "      <td>127000.0</td>\n",
       "      <td>29000.0</td>\n",
       "      <td>98000.0</td>\n",
       "      <td>127000.0</td>\n",
       "      <td>98000.0</td>\n",
       "      <td>698642.0</td>\n",
       "    </tr>\n",
       "  </tbody>\n",
       "</table>\n",
       "<p>128 rows × 9 columns</p>\n",
       "</div>"
      ],
      "text/plain": [
       "      종목코드     종목명          날짜        종가      전일비        시가        고가  \\\n",
       "1   326030  SK바이오팜  2021.01.07  158500.0   1000.0  160000.0  160500.0   \n",
       "2   326030  SK바이오팜  2021.01.06  159500.0   1000.0  161500.0  162500.0   \n",
       "3   326030  SK바이오팜  2021.01.05  160500.0   6000.0  155000.0  162500.0   \n",
       "4   326030  SK바이오팜  2021.01.04  154500.0  14500.0  149500.0  157000.0   \n",
       "5   326030  SK바이오팜  2020.12.30  169000.0   1000.0  168000.0  169500.0   \n",
       "..     ...     ...         ...       ...      ...       ...       ...   \n",
       "4   326030  SK바이오팜  2020.07.08  217000.0    500.0  214500.0  225000.0   \n",
       "5   326030  SK바이오팜  2020.07.07  216500.0   2000.0  219000.0  269500.0   \n",
       "9   326030  SK바이오팜  2020.07.06  214500.0  49500.0  214500.0  214500.0   \n",
       "10  326030  SK바이오팜  2020.07.03  165000.0  38000.0  165000.0  165000.0   \n",
       "11  326030  SK바이오팜  2020.07.02  127000.0  29000.0   98000.0  127000.0   \n",
       "\n",
       "          저가         거래량  \n",
       "1   157500.0    480831.0  \n",
       "2   158000.0    626403.0  \n",
       "3   152500.0   1377082.0  \n",
       "4   149000.0   3338448.0  \n",
       "5   167000.0    221674.0  \n",
       "..       ...         ...  \n",
       "4   198000.0   5990009.0  \n",
       "5   210000.0  10105187.0  \n",
       "9   193500.0   7126211.0  \n",
       "10  165000.0    711921.0  \n",
       "11   98000.0    698642.0  \n",
       "\n",
       "[128 rows x 9 columns]"
      ]
     },
     "execution_count": 125,
     "metadata": {},
     "output_type": "execute_result"
    }
   ],
   "source": [
    "# item_code = \"352820\"\n",
    "# item_name = \"빅히트\"\n",
    "\n",
    "item_code = \"326030\"\n",
    "item_name = \"SK바이오팜\"\n",
    "\n",
    "df = get_item_list(item_code, item_name)\n",
    "df"
   ]
  },
  {
   "cell_type": "markdown",
   "metadata": {},
   "source": [
    "## 내가 만든 함수의 기능과 소스코드가 궁금하다면?"
   ]
  },
  {
   "cell_type": "code",
   "execution_count": 128,
   "metadata": {},
   "outputs": [],
   "source": [
    "# 도움말 보기\n",
    "# get_item_list?\n"
   ]
  },
  {
   "cell_type": "code",
   "execution_count": 129,
   "metadata": {},
   "outputs": [],
   "source": [
    "# 소스코드 보기\n",
    "# get_item_list??\n"
   ]
  },
  {
   "cell_type": "code",
   "execution_count": null,
   "metadata": {},
   "outputs": [],
   "source": []
  }
 ],
 "metadata": {
  "colab": {
   "collapsed_sections": [],
   "name": "3. 네이버금융 개별종목 수집.ipynb",
   "provenance": [],
   "toc_visible": true
  },
  "kernelspec": {
   "display_name": "Python 3",
   "language": "python",
   "name": "python3"
  },
  "language_info": {
   "codemirror_mode": {
    "name": "ipython",
    "version": 3
   },
   "file_extension": ".py",
   "mimetype": "text/x-python",
   "name": "python",
   "nbconvert_exporter": "python",
   "pygments_lexer": "ipython3",
   "version": "3.7.6"
  },
  "toc": {
   "base_numbering": 1,
   "nav_menu": {},
   "number_sections": true,
   "sideBar": true,
   "skip_h1_title": false,
   "title_cell": "Table of Contents",
   "title_sidebar": "Contents",
   "toc_cell": false,
   "toc_position": {
    "height": "calc(100% - 180px)",
    "left": "10px",
    "top": "150px",
    "width": "204.8px"
   },
   "toc_section_display": true,
   "toc_window_display": true
  },
  "varInspector": {
   "cols": {
    "lenName": 16,
    "lenType": 16,
    "lenVar": 40
   },
   "kernels_config": {
    "python": {
     "delete_cmd_postfix": "",
     "delete_cmd_prefix": "del ",
     "library": "var_list.py",
     "varRefreshCmd": "print(var_dic_list())"
    },
    "r": {
     "delete_cmd_postfix": ") ",
     "delete_cmd_prefix": "rm(",
     "library": "var_list.r",
     "varRefreshCmd": "cat(var_dic_list()) "
    }
   },
   "types_to_exclude": [
    "module",
    "function",
    "builtin_function_or_method",
    "instance",
    "_Feature"
   ],
   "window_display": false
  }
 },
 "nbformat": 4,
 "nbformat_minor": 1
}
